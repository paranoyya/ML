{
 "cells": [
  {
   "cell_type": "code",
   "execution_count": 1,
   "metadata": {
    "colab": {
     "base_uri": "https://localhost:8080/"
    },
    "executionInfo": {
     "elapsed": 1070,
     "status": "ok",
     "timestamp": 1606662193776,
     "user": {
      "displayName": "Ольга Гордеева",
      "photoUrl": "",
      "userId": "14305871576931202447"
     },
     "user_tz": -180
    },
    "id": "MBgsP97Girmp",
    "outputId": "78288d69-33aa-44e1-83ac-da41df770526"
   },
   "outputs": [
    {
     "name": "stdout",
     "output_type": "stream",
     "text": [
      "Drive already mounted at /content/drive; to attempt to forcibly remount, call drive.mount(\"/content/drive\", force_remount=True).\n"
     ]
    }
   ],
   "source": [
    "from sklearn.model_selection import cross_validate\n",
    "from sklearn.model_selection import GridSearchCV\n",
    "from sklearn.model_selection import train_test_split \n",
    "import matplotlib.pyplot as plt\n",
    "from sklearn.linear_model import LogisticRegression\n",
    "import numpy as np\n",
    "import pandas as pd\n",
    "#data = pd.read_csv('C:\\\\Windows\\\\System32\\\\opencv\\\\Scripts\\\\datasets\\\\application_record_final.csv', sep=',')\n",
    "\n",
    "\n",
    "from google.colab import drive\n",
    "drive.mount('/content/drive')\n",
    "data = pd.read_csv('/content/drive/My Drive/Colab/datasets/application_record_final.csv', sep=',')\n",
    "\n",
    "%matplotlib inline\n",
    "\n",
    "X = data.drop(['STATUS_C'], axis='columns')\n",
    "y = data['STATUS_C']\n",
    "\n",
    "from sklearn.model_selection import train_test_split\n",
    "X_train, X_test, y_train, y_test = train_test_split(X, y,test_size=0.33, random_state=0)"
   ]
  },
  {
   "cell_type": "code",
   "execution_count": 2,
   "metadata": {
    "colab": {
     "base_uri": "https://localhost:8080/",
     "height": 435
    },
    "executionInfo": {
     "elapsed": 1061,
     "status": "ok",
     "timestamp": 1606662193778,
     "user": {
      "displayName": "Ольга Гордеева",
      "photoUrl": "",
      "userId": "14305871576931202447"
     },
     "user_tz": -180
    },
    "id": "UbDXtpKGJmqn",
    "outputId": "2eb06c01-eead-4df5-a3d4-41d846ecb81f"
   },
   "outputs": [
    {
     "data": {
      "text/html": [
       "<div>\n",
       "<style scoped>\n",
       "    .dataframe tbody tr th:only-of-type {\n",
       "        vertical-align: middle;\n",
       "    }\n",
       "\n",
       "    .dataframe tbody tr th {\n",
       "        vertical-align: top;\n",
       "    }\n",
       "\n",
       "    .dataframe thead th {\n",
       "        text-align: right;\n",
       "    }\n",
       "</style>\n",
       "<table border=\"1\" class=\"dataframe\">\n",
       "  <thead>\n",
       "    <tr style=\"text-align: right;\">\n",
       "      <th></th>\n",
       "      <th>MONTHS_BALANCE</th>\n",
       "      <th>CODE_GENDER</th>\n",
       "      <th>FLAG_OWN_CAR</th>\n",
       "      <th>FLAG_OWN_REALTY</th>\n",
       "      <th>CNT_CHILDREN</th>\n",
       "      <th>AMT_INCOME_TOTAL</th>\n",
       "      <th>NAME_INCOME_TYPE</th>\n",
       "      <th>NAME_EDUCATION_TYPE</th>\n",
       "      <th>NAME_FAMILY_STATUS</th>\n",
       "      <th>NAME_HOUSING_TYPE</th>\n",
       "      <th>DAYS_BIRTH</th>\n",
       "      <th>DAYS_EMPLOYED</th>\n",
       "      <th>OCCUPATION_TYPE</th>\n",
       "      <th>CNT_FAM_MEMBERS</th>\n",
       "      <th>STATUS_C</th>\n",
       "    </tr>\n",
       "  </thead>\n",
       "  <tbody>\n",
       "    <tr>\n",
       "      <th>0</th>\n",
       "      <td>-7</td>\n",
       "      <td>1</td>\n",
       "      <td>0</td>\n",
       "      <td>0</td>\n",
       "      <td>1</td>\n",
       "      <td>135000.0</td>\n",
       "      <td>34134</td>\n",
       "      <td>36892</td>\n",
       "      <td>39481</td>\n",
       "      <td>48803</td>\n",
       "      <td>-12546</td>\n",
       "      <td>-2539</td>\n",
       "      <td>402</td>\n",
       "      <td>3.0</td>\n",
       "      <td>1</td>\n",
       "    </tr>\n",
       "    <tr>\n",
       "      <th>1</th>\n",
       "      <td>-42</td>\n",
       "      <td>1</td>\n",
       "      <td>1</td>\n",
       "      <td>1</td>\n",
       "      <td>0</td>\n",
       "      <td>247500.0</td>\n",
       "      <td>5445</td>\n",
       "      <td>15784</td>\n",
       "      <td>6795</td>\n",
       "      <td>48803</td>\n",
       "      <td>-10012</td>\n",
       "      <td>-826</td>\n",
       "      <td>3301</td>\n",
       "      <td>1.0</td>\n",
       "      <td>1</td>\n",
       "    </tr>\n",
       "    <tr>\n",
       "      <th>2</th>\n",
       "      <td>-1</td>\n",
       "      <td>0</td>\n",
       "      <td>0</td>\n",
       "      <td>1</td>\n",
       "      <td>0</td>\n",
       "      <td>180000.0</td>\n",
       "      <td>34134</td>\n",
       "      <td>36892</td>\n",
       "      <td>6795</td>\n",
       "      <td>48803</td>\n",
       "      <td>-18913</td>\n",
       "      <td>-807</td>\n",
       "      <td>13688</td>\n",
       "      <td>1.0</td>\n",
       "      <td>1</td>\n",
       "    </tr>\n",
       "    <tr>\n",
       "      <th>3</th>\n",
       "      <td>-17</td>\n",
       "      <td>0</td>\n",
       "      <td>1</td>\n",
       "      <td>1</td>\n",
       "      <td>0</td>\n",
       "      <td>117000.0</td>\n",
       "      <td>34134</td>\n",
       "      <td>36892</td>\n",
       "      <td>39481</td>\n",
       "      <td>48803</td>\n",
       "      <td>-11736</td>\n",
       "      <td>-1816</td>\n",
       "      <td>1343</td>\n",
       "      <td>2.0</td>\n",
       "      <td>1</td>\n",
       "    </tr>\n",
       "    <tr>\n",
       "      <th>4</th>\n",
       "      <td>-22</td>\n",
       "      <td>1</td>\n",
       "      <td>1</td>\n",
       "      <td>1</td>\n",
       "      <td>0</td>\n",
       "      <td>180000.0</td>\n",
       "      <td>5445</td>\n",
       "      <td>15784</td>\n",
       "      <td>39481</td>\n",
       "      <td>48803</td>\n",
       "      <td>-10091</td>\n",
       "      <td>-643</td>\n",
       "      <td>3301</td>\n",
       "      <td>2.0</td>\n",
       "      <td>1</td>\n",
       "    </tr>\n",
       "    <tr>\n",
       "      <th>...</th>\n",
       "      <td>...</td>\n",
       "      <td>...</td>\n",
       "      <td>...</td>\n",
       "      <td>...</td>\n",
       "      <td>...</td>\n",
       "      <td>...</td>\n",
       "      <td>...</td>\n",
       "      <td>...</td>\n",
       "      <td>...</td>\n",
       "      <td>...</td>\n",
       "      <td>...</td>\n",
       "      <td>...</td>\n",
       "      <td>...</td>\n",
       "      <td>...</td>\n",
       "      <td>...</td>\n",
       "    </tr>\n",
       "    <tr>\n",
       "      <th>55299</th>\n",
       "      <td>-14</td>\n",
       "      <td>0</td>\n",
       "      <td>0</td>\n",
       "      <td>1</td>\n",
       "      <td>0</td>\n",
       "      <td>360000.0</td>\n",
       "      <td>34134</td>\n",
       "      <td>36892</td>\n",
       "      <td>39481</td>\n",
       "      <td>48803</td>\n",
       "      <td>-14687</td>\n",
       "      <td>-2463</td>\n",
       "      <td>1343</td>\n",
       "      <td>2.0</td>\n",
       "      <td>0</td>\n",
       "    </tr>\n",
       "    <tr>\n",
       "      <th>55300</th>\n",
       "      <td>-60</td>\n",
       "      <td>0</td>\n",
       "      <td>1</td>\n",
       "      <td>0</td>\n",
       "      <td>0</td>\n",
       "      <td>144000.0</td>\n",
       "      <td>34134</td>\n",
       "      <td>36892</td>\n",
       "      <td>1242</td>\n",
       "      <td>48803</td>\n",
       "      <td>-14407</td>\n",
       "      <td>-1345</td>\n",
       "      <td>166</td>\n",
       "      <td>1.0</td>\n",
       "      <td>0</td>\n",
       "    </tr>\n",
       "    <tr>\n",
       "      <th>55301</th>\n",
       "      <td>-8</td>\n",
       "      <td>1</td>\n",
       "      <td>1</td>\n",
       "      <td>0</td>\n",
       "      <td>0</td>\n",
       "      <td>225000.0</td>\n",
       "      <td>34134</td>\n",
       "      <td>15784</td>\n",
       "      <td>4552</td>\n",
       "      <td>840</td>\n",
       "      <td>-14555</td>\n",
       "      <td>-1226</td>\n",
       "      <td>6989</td>\n",
       "      <td>2.0</td>\n",
       "      <td>0</td>\n",
       "    </tr>\n",
       "    <tr>\n",
       "      <th>55302</th>\n",
       "      <td>-58</td>\n",
       "      <td>1</td>\n",
       "      <td>0</td>\n",
       "      <td>1</td>\n",
       "      <td>0</td>\n",
       "      <td>225000.0</td>\n",
       "      <td>34134</td>\n",
       "      <td>36892</td>\n",
       "      <td>6795</td>\n",
       "      <td>48803</td>\n",
       "      <td>-16496</td>\n",
       "      <td>-338</td>\n",
       "      <td>2713</td>\n",
       "      <td>1.0</td>\n",
       "      <td>0</td>\n",
       "    </tr>\n",
       "    <tr>\n",
       "      <th>55303</th>\n",
       "      <td>-21</td>\n",
       "      <td>0</td>\n",
       "      <td>0</td>\n",
       "      <td>1</td>\n",
       "      <td>0</td>\n",
       "      <td>121500.0</td>\n",
       "      <td>15645</td>\n",
       "      <td>15784</td>\n",
       "      <td>39481</td>\n",
       "      <td>48803</td>\n",
       "      <td>-17046</td>\n",
       "      <td>-1410</td>\n",
       "      <td>2788</td>\n",
       "      <td>2.0</td>\n",
       "      <td>1</td>\n",
       "    </tr>\n",
       "  </tbody>\n",
       "</table>\n",
       "<p>55304 rows × 15 columns</p>\n",
       "</div>"
      ],
      "text/plain": [
       "       MONTHS_BALANCE  CODE_GENDER  ...  CNT_FAM_MEMBERS  STATUS_C\n",
       "0                  -7            1  ...              3.0         1\n",
       "1                 -42            1  ...              1.0         1\n",
       "2                  -1            0  ...              1.0         1\n",
       "3                 -17            0  ...              2.0         1\n",
       "4                 -22            1  ...              2.0         1\n",
       "...               ...          ...  ...              ...       ...\n",
       "55299             -14            0  ...              2.0         0\n",
       "55300             -60            0  ...              1.0         0\n",
       "55301              -8            1  ...              2.0         0\n",
       "55302             -58            1  ...              1.0         0\n",
       "55303             -21            0  ...              2.0         1\n",
       "\n",
       "[55304 rows x 15 columns]"
      ]
     },
     "execution_count": 2,
     "metadata": {
      "tags": []
     },
     "output_type": "execute_result"
    }
   ],
   "source": [
    "data"
   ]
  },
  {
   "cell_type": "code",
   "execution_count": 3,
   "metadata": {
    "executionInfo": {
     "elapsed": 1052,
     "status": "ok",
     "timestamp": 1606662193778,
     "user": {
      "displayName": "Ольга Гордеева",
      "photoUrl": "",
      "userId": "14305871576931202447"
     },
     "user_tz": -180
    },
    "id": "gEXSENQ8irmq"
   },
   "outputs": [],
   "source": [
    "from sklearn.metrics import accuracy_score, precision_score, recall_score, precision_recall_curve, roc_auc_score, f1_score, fbeta_score, auc\n",
    "\n",
    "def classsifier_quality(a): \n",
    "   \n",
    "    print('Accuracy:', accuracy_score(y_test, a))\n",
    "    print('Precision:', precision_score(y_test, a))\n",
    "    print('Recall:', recall_score(y_test, a))\n",
    "    print('ROC AUC:', roc_auc_score(y_test, a))\n",
    "    pr, rec, _ = precision_recall_curve(y_test, a)\n",
    "    print('PRC AUC:', auc(rec, pr))\n",
    "    print('F1:', f1_score(y_test, a))\n",
    "    print('F0.5:', fbeta_score(y_test, a, 0.5))\n",
    "    print('F2:', fbeta_score(y_test, a, 2))"
   ]
  },
  {
   "cell_type": "markdown",
   "metadata": {
    "id": "7izdd1tBi_oH"
   },
   "source": [
    "### Logistic regresseion:"
   ]
  },
  {
   "cell_type": "code",
   "execution_count": 4,
   "metadata": {
    "colab": {
     "base_uri": "https://localhost:8080/"
    },
    "executionInfo": {
     "elapsed": 2630,
     "status": "ok",
     "timestamp": 1606662195362,
     "user": {
      "displayName": "Ольга Гордеева",
      "photoUrl": "",
      "userId": "14305871576931202447"
     },
     "user_tz": -180
    },
    "id": "qLz3g9bEirmr",
    "outputId": "1277493d-b919-4aed-b93c-1a8d9def2923"
   },
   "outputs": [
    {
     "name": "stdout",
     "output_type": "stream",
     "text": [
      "Accuracy: 0.575584899457564\n",
      "Precision: 0.49382716049382713\n",
      "Recall: 0.036180385062669594\n",
      "ROC AUC: 0.5044391270823241\n",
      "PRC AUC: 0.469348740177295\n",
      "F1: 0.06742114134360702\n",
      "F0.5: 0.13990206855201356\n",
      "F2: 0.04441201662278336\n"
     ]
    },
    {
     "name": "stderr",
     "output_type": "stream",
     "text": [
      "/usr/local/lib/python3.6/dist-packages/sklearn/linear_model/_logistic.py:940: ConvergenceWarning: lbfgs failed to converge (status=1):\n",
      "STOP: TOTAL NO. of ITERATIONS REACHED LIMIT.\n",
      "\n",
      "Increase the number of iterations (max_iter) or scale the data as shown in:\n",
      "    https://scikit-learn.org/stable/modules/preprocessing.html\n",
      "Please also refer to the documentation for alternative solver options:\n",
      "    https://scikit-learn.org/stable/modules/linear_model.html#logistic-regression\n",
      "  extra_warning_msg=_LOGISTIC_SOLVER_CONVERGENCE_MSG)\n"
     ]
    }
   ],
   "source": [
    "lr_clf = LogisticRegression()\n",
    "lr_clf.fit(X_train,y_train)\n",
    "lr_labels = lr_clf.predict(X_test)\n",
    "lr_predict = lr_clf.predict_proba(X_test)\n",
    "\n",
    "classsifier_quality(lr_labels)"
   ]
  },
  {
   "cell_type": "code",
   "execution_count": 5,
   "metadata": {
    "colab": {
     "base_uri": "https://localhost:8080/",
     "height": 313
    },
    "executionInfo": {
     "elapsed": 2624,
     "status": "ok",
     "timestamp": 1606662195363,
     "user": {
      "displayName": "Ольга Гордеева",
      "photoUrl": "",
      "userId": "14305871576931202447"
     },
     "user_tz": -180
    },
    "id": "o1nSeE0iirmt",
    "outputId": "f5af8668-e778-4095-f3fa-71b78cf60d57"
   },
   "outputs": [
    {
     "data": {
      "image/png": "[encoded data removed]",
      "text/plain": [
       "<Figure size 432x288 with 1 Axes>"
      ]
     },
     "metadata": {
      "needs_background": "light",
      "tags": []
     },
     "output_type": "display_data"
    },
    {
     "name": "stdout",
     "output_type": "stream",
     "text": [
      "LogReg:0.542359 \n"
     ]
    }
   ],
   "source": [
    "import sklearn.metrics as metrics\n",
    "aucs = \"\"\n",
    "for  predicted, descr in zip([lr_predict[:,1]],\n",
    "                                    [\"LogReg\"]):\n",
    "    fpr, tpr, thr = metrics.roc_curve(y_test, predicted)\n",
    "    plt.plot(fpr, tpr,label=descr)\n",
    "    aucs += descr + \":%3f\"%roc_auc_score(y_test, predicted) + \" \"\n",
    "plt.title(\"ROC\")\n",
    "plt.xlabel(\"false positive rate\")\n",
    "plt.ylabel(\"true positive rate\")\n",
    "plt.legend(loc=4)\n",
    "plt.show()\n",
    "\n",
    "print(aucs)"
   ]
  },
  {
   "cell_type": "code",
   "execution_count": 6,
   "metadata": {
    "colab": {
     "base_uri": "https://localhost:8080/"
    },
    "executionInfo": {
     "elapsed": 2619,
     "status": "ok",
     "timestamp": 1606662195367,
     "user": {
      "displayName": "Ольга Гордеева",
      "photoUrl": "",
      "userId": "14305871576931202447"
     },
     "user_tz": -180
    },
    "id": "C7EgWB6hirmu",
    "outputId": "fed85ff4-d32d-48ae-9e8c-e927f562fc35"
   },
   "outputs": [
    {
     "data": {
      "text/plain": [
       "dict_keys(['C', 'class_weight', 'dual', 'fit_intercept', 'intercept_scaling', 'l1_ratio', 'max_iter', 'multi_class', 'n_jobs', 'penalty', 'random_state', 'solver', 'tol', 'verbose', 'warm_start'])"
      ]
     },
     "execution_count": 6,
     "metadata": {
      "tags": []
     },
     "output_type": "execute_result"
    }
   ],
   "source": [
    "lr_clf.get_params().keys()"
   ]
  },
  {
   "cell_type": "code",
   "execution_count": 7,
   "metadata": {
    "executionInfo": {
     "elapsed": 2616,
     "status": "ok",
     "timestamp": 1606662195369,
     "user": {
      "displayName": "Ольга Гордеева",
      "photoUrl": "",
      "userId": "14305871576931202447"
     },
     "user_tz": -180
    },
    "id": "USfOAVEjirmv"
   },
   "outputs": [],
   "source": [
    "param_grid =  {\n",
    "    #'C' :np.logspace(-3,3,10),\n",
    "    #'penalty' : ['l1','l2','none'],\n",
    "    #'solver' : ['liblinear','saga'],\n",
    "    'C': [0.0001,0.001,0.01,0.1,1, 10, 100, 1000, 10000],\n",
    "    #'max_iter' : [100, 500]\n",
    "    }"
   ]
  },
  {
   "cell_type": "code",
   "execution_count": 8,
   "metadata": {
    "colab": {
     "base_uri": "https://localhost:8080/"
    },
    "executionInfo": {
     "elapsed": 15077,
     "status": "ok",
     "timestamp": 1606662207836,
     "user": {
      "displayName": "Ольга Гордеева",
      "photoUrl": "",
      "userId": "14305871576931202447"
     },
     "user_tz": -180
    },
    "id": "svbuZLHeirmv",
    "outputId": "9171166c-6577-4ee5-b473-d6f187859bdf"
   },
   "outputs": [
    {
     "name": "stdout",
     "output_type": "stream",
     "text": [
      "CPU times: user 13.4 s, sys: 4.26 s, total: 17.7 s\n",
      "Wall time: 12.7 s\n"
     ]
    }
   ],
   "source": [
    "%%time\n",
    "grid_l1 = GridSearchCV(LogisticRegression(penalty='l1',solver='liblinear'), param_grid, cv=None)\n",
    "grid_l1.fit(X_train, y_train)"
   ]
  },
  {
   "cell_type": "code",
   "execution_count": 9,
   "metadata": {
    "colab": {
     "base_uri": "https://localhost:8080/"
    },
    "executionInfo": {
     "elapsed": 15072,
     "status": "ok",
     "timestamp": 1606662207837,
     "user": {
      "displayName": "Ольга Гордеева",
      "photoUrl": "",
      "userId": "14305871576931202447"
     },
     "user_tz": -180
    },
    "id": "fFnXb-Peirmv",
    "outputId": "1dba1621-b60a-4926-beca-9deac91a0d33"
   },
   "outputs": [
    {
     "data": {
      "text/plain": [
       "{'C': 100}"
      ]
     },
     "execution_count": 9,
     "metadata": {
      "tags": []
     },
     "output_type": "execute_result"
    }
   ],
   "source": [
    "grid_l1.best_params_"
   ]
  },
  {
   "cell_type": "code",
   "execution_count": 10,
   "metadata": {
    "colab": {
     "base_uri": "https://localhost:8080/"
    },
    "executionInfo": {
     "elapsed": 47418,
     "status": "ok",
     "timestamp": 1606662240190,
     "user": {
      "displayName": "Ольга Гордеева",
      "photoUrl": "",
      "userId": "14305871576931202447"
     },
     "user_tz": -180
    },
    "id": "iLiojP07kVkU",
    "outputId": "2b731b66-e141-4c5b-9b3a-e6c6230b05bb"
   },
   "outputs": [
    {
     "name": "stdout",
     "output_type": "stream",
     "text": [
      "CPU times: user 41.4 s, sys: 22.1 s, total: 1min 3s\n",
      "Wall time: 32.2 s\n"
     ]
    }
   ],
   "source": [
    "%%time\n",
    "grid_l2 = GridSearchCV(LogisticRegression(penalty='l2',max_iter=1000), param_grid,  cv=None)\n",
    "grid_l2.fit(X_train, y_train)"
   ]
  },
  {
   "cell_type": "code",
   "execution_count": 11,
   "metadata": {
    "colab": {
     "base_uri": "https://localhost:8080/"
    },
    "executionInfo": {
     "elapsed": 47409,
     "status": "ok",
     "timestamp": 1606662240191,
     "user": {
      "displayName": "Ольга Гордеева",
      "photoUrl": "",
      "userId": "14305871576931202447"
     },
     "user_tz": -180
    },
    "id": "cxItHV0ukc25",
    "outputId": "91d5623e-36cc-4743-d957-7356acfce13f"
   },
   "outputs": [
    {
     "data": {
      "text/plain": [
       "{'C': 0.0001}"
      ]
     },
     "execution_count": 11,
     "metadata": {
      "tags": []
     },
     "output_type": "execute_result"
    }
   ],
   "source": [
    "grid_l2.best_params_"
   ]
  },
  {
   "cell_type": "code",
   "execution_count": 12,
   "metadata": {
    "executionInfo": {
     "elapsed": 47405,
     "status": "ok",
     "timestamp": 1606662240191,
     "user": {
      "displayName": "Ольга Гордеева",
      "photoUrl": "",
      "userId": "14305871576931202447"
     },
     "user_tz": -180
    },
    "id": "vBcrVhwPI7ZE"
   },
   "outputs": [],
   "source": [
    "from sklearn.preprocessing import MinMaxScaler\n",
    "\n",
    "scaler = MinMaxScaler()\n",
    "X_train_scaled = pd.DataFrame(scaler.fit_transform(X_train,), columns=X_train.columns)\n",
    "X_test_scaled = pd.DataFrame(scaler.transform(X_test), columns=X_train.columns)"
   ]
  },
  {
   "cell_type": "code",
   "execution_count": 13,
   "metadata": {
    "colab": {
     "base_uri": "https://localhost:8080/"
    },
    "executionInfo": {
     "elapsed": 68446,
     "status": "ok",
     "timestamp": 1606662261236,
     "user": {
      "displayName": "Ольга Гордеева",
      "photoUrl": "",
      "userId": "14305871576931202447"
     },
     "user_tz": -180
    },
    "id": "SSUDuxm_I84y",
    "outputId": "911b827b-3cb1-4d72-9a0e-a8378caca102"
   },
   "outputs": [
    {
     "name": "stdout",
     "output_type": "stream",
     "text": [
      "CPU times: user 21.7 s, sys: 3.8 s, total: 25.5 s\n",
      "Wall time: 21 s\n"
     ]
    }
   ],
   "source": [
    "%%time\n",
    "grid_sl1 = GridSearchCV(LogisticRegression(penalty='l1',solver='liblinear'), param_grid, cv=None)\n",
    "grid_sl1.fit(X_train_scaled, y_train)"
   ]
  },
  {
   "cell_type": "code",
   "execution_count": 14,
   "metadata": {
    "colab": {
     "base_uri": "https://localhost:8080/"
    },
    "executionInfo": {
     "elapsed": 68443,
     "status": "ok",
     "timestamp": 1606662261237,
     "user": {
      "displayName": "Ольга Гордеева",
      "photoUrl": "",
      "userId": "14305871576931202447"
     },
     "user_tz": -180
    },
    "id": "0111tpMdI9Q5",
    "outputId": "2fe83420-a5d3-471b-b40f-3b0cf1842641"
   },
   "outputs": [
    {
     "data": {
      "text/plain": [
       "{'C': 10}"
      ]
     },
     "execution_count": 14,
     "metadata": {
      "tags": []
     },
     "output_type": "execute_result"
    }
   ],
   "source": [
    "grid_sl1.best_params_"
   ]
  },
  {
   "cell_type": "code",
   "execution_count": 15,
   "metadata": {
    "colab": {
     "base_uri": "https://localhost:8080/"
    },
    "executionInfo": {
     "elapsed": 85634,
     "status": "ok",
     "timestamp": 1606662278432,
     "user": {
      "displayName": "Ольга Гордеева",
      "photoUrl": "",
      "userId": "14305871576931202447"
     },
     "user_tz": -180
    },
    "id": "BFF_2z0DI9bx",
    "outputId": "2e3d2529-5ed1-4169-8a9e-169413a212ac"
   },
   "outputs": [
    {
     "name": "stdout",
     "output_type": "stream",
     "text": [
      "CPU times: user 22.1 s, sys: 11.9 s, total: 33.9 s\n",
      "Wall time: 17.3 s\n"
     ]
    }
   ],
   "source": [
    "%%time\n",
    "grid_sl2 = GridSearchCV(LogisticRegression(penalty='l2',max_iter=1000), param_grid,  cv=None)\n",
    "grid_sl2.fit(X_train_scaled, y_train)"
   ]
  },
  {
   "cell_type": "code",
   "execution_count": 16,
   "metadata": {
    "colab": {
     "base_uri": "https://localhost:8080/"
    },
    "executionInfo": {
     "elapsed": 85631,
     "status": "ok",
     "timestamp": 1606662278433,
     "user": {
      "displayName": "Ольга Гордеева",
      "photoUrl": "",
      "userId": "14305871576931202447"
     },
     "user_tz": -180
    },
    "id": "rQy2X5zuI9Lh",
    "outputId": "9bc8f9a4-31c5-4a71-9a2c-87abcdec3325"
   },
   "outputs": [
    {
     "data": {
      "text/plain": [
       "{'C': 10}"
      ]
     },
     "execution_count": 16,
     "metadata": {
      "tags": []
     },
     "output_type": "execute_result"
    }
   ],
   "source": [
    "grid_sl2.best_params_"
   ]
  },
  {
   "cell_type": "code",
   "execution_count": 17,
   "metadata": {
    "colab": {
     "base_uri": "https://localhost:8080/"
    },
    "executionInfo": {
     "elapsed": 98242,
     "status": "ok",
     "timestamp": 1606662291047,
     "user": {
      "displayName": "Ольга Гордеева",
      "photoUrl": "",
      "userId": "14305871576931202447"
     },
     "user_tz": -180
    },
    "id": "cZ4RFuy2lWkH",
    "outputId": "1587e27f-2368-49d5-93fc-f84d61f531f5"
   },
   "outputs": [
    {
     "name": "stdout",
     "output_type": "stream",
     "text": [
      "KNN METRICS:\n",
      "Accuracy: 0.6915785436414443\n",
      "Precision: 0.7060546875\n",
      "Recall: 0.4671146142912521\n",
      "ROC AUC: 0.6619724517422775\n",
      "PRC AUC: 0.699564761574493\n",
      "F1: 0.5622521191383467\n",
      "F0.5: 0.6405258868138488\n",
      "F2: 0.5010256125956314\n",
      " \n",
      "TREE METRICS:\n",
      "Accuracy: 0.6585940496411156\n",
      "Precision: 0.5988463555322496\n",
      "Recall: 0.5902571391652668\n",
      "ROC AUC: 0.649580624377154\n",
      "PRC AUC: 0.6814236995705543\n",
      "F1: 0.594520726231535\n",
      "F0.5: 0.5971085723249067\n",
      "F2: 0.5919552145967241\n",
      " \n",
      "RFC METRICS:\n",
      "Accuracy: 0.7126732781765382\n",
      "Precision: 0.6722828338627261\n",
      "Recall: 0.6290218374466986\n",
      "ROC AUC: 0.7016399141571392\n",
      "PRC AUC: 0.7293055601355627\n",
      "F1: 0.6499332443257677\n",
      "F0.5: 0.66316104950549\n",
      "F2: 0.6372228185459592\n",
      " \n",
      "LR_L1 METRICS:\n",
      "Accuracy: 0.5859404964111555\n",
      "Precision: 0.5212121212121212\n",
      "Recall: 0.28892621785760436\n",
      "ROC AUC: 0.5467652398268236\n",
      "PRC AUC: 0.5558280320629434\n",
      "F1: 0.37176822678526894\n",
      "F0.5: 0.4490140166271739\n",
      "F2: 0.3171991147931681\n",
      " \n",
      "LR_L2 METRICS:\n",
      "Accuracy: 0.5862692455207934\n",
      "Precision: 0.5214220601640839\n",
      "Recall: 0.29564543222638584\n",
      "ROC AUC: 0.5479368713643346\n",
      "PRC AUC: 0.5578680292482183\n",
      "F1: 0.37733982023583734\n",
      "F0.5: 0.45233482266418884\n",
      "F2: 0.32367587143503845\n"
     ]
    }
   ],
   "source": [
    "from sklearn.tree import DecisionTreeClassifier\n",
    "from sklearn.ensemble import RandomForestClassifier\n",
    "from sklearn.neighbors import KNeighborsClassifier\n",
    "from sklearn.linear_model import LogisticRegressionCV\n",
    "from sklearn.ensemble import RandomForestClassifier\n",
    "\n",
    "#lr_clf_l1 = LogisticRegressionCV(Cs=1,penalty='l1', solver='liblinear',cv=5,max_iter=1000)\n",
    "lr_clf_l1 = LogisticRegression(C=0.001,penalty='l1', solver='liblinear',max_iter=1000)\n",
    "lr_clf_l1.fit(X_train,y_train)\n",
    "lr_labels_l1 = lr_clf_l1.predict(X_test)\n",
    "lr_predict_l1 = lr_clf_l1.predict_proba(X_test)\n",
    "\n",
    "#lr_clf_l2 = LogisticRegressionCV(Cs=10,penalty='l2', solver='lbfgs',cv=5,max_iter=1000)\n",
    "lr_clf_l2 = LogisticRegression(C=0.0001,penalty='l2', solver='lbfgs',max_iter=1000)\n",
    "lr_clf_l2.fit(X_train,y_train)\n",
    "lr_labels_l2 = lr_clf_l2.predict(X_test)\n",
    "lr_predict_l2 = lr_clf_l2.predict_proba(X_test)\n",
    "\n",
    "knn_clf = KNeighborsClassifier(n_neighbors=2)\n",
    "knn_clf.fit(X_train,y_train)\n",
    "knn_labels = knn_clf.predict(X_test)\n",
    "knn_predict = knn_clf.predict_proba(X_test)\n",
    "\n",
    "tree_clf = DecisionTreeClassifier(random_state=0)\n",
    "tree_clf.fit(X_train,y_train)\n",
    "tree_labels = tree_clf.predict(X_test)\n",
    "tree_predict = tree_clf.predict_proba(X_test)\n",
    "\n",
    "rfc = RandomForestClassifier()\n",
    "rfc.fit(X_train,y_train)\n",
    "rfc_labels = rfc.predict(X_test)\n",
    "rfc_predict = rfc.predict_proba(X_test)\n",
    "\n",
    "print(\"KNN METRICS:\")\n",
    "classsifier_quality(knn_labels)\n",
    "\n",
    "print(\" \")\n",
    "print(\"TREE METRICS:\")\n",
    "classsifier_quality(tree_labels)\n",
    "\n",
    "print(\" \")\n",
    "print(\"RFC METRICS:\")\n",
    "classsifier_quality(rfc_labels)\n",
    "\n",
    "print(\" \")\n",
    "print(\"LR_L1 METRICS:\")\n",
    "classsifier_quality(lr_labels_l1)\n",
    "\n",
    "print(\" \")\n",
    "print(\"LR_L2 METRICS:\")\n",
    "classsifier_quality(lr_labels_l2)"
   ]
  },
  {
   "cell_type": "code",
   "execution_count": 18,
   "metadata": {
    "colab": {
     "base_uri": "https://localhost:8080/",
     "height": 313
    },
    "executionInfo": {
     "elapsed": 98607,
     "status": "ok",
     "timestamp": 1606662291416,
     "user": {
      "displayName": "Ольга Гордеева",
      "photoUrl": "",
      "userId": "14305871576931202447"
     },
     "user_tz": -180
    },
    "id": "Rcyt9mVDlR6a",
    "outputId": "a3df640f-3188-40fa-c578-3808c8dd5ca9"
   },
   "outputs": [
    {
     "data": {
      "image/png": "[encoded data removed]",
      "text/plain": [
       "<Figure size 432x288 with 1 Axes>"
      ]
     },
     "metadata": {
      "needs_background": "light",
      "tags": []
     },
     "output_type": "display_data"
    },
    {
     "name": "stdout",
     "output_type": "stream",
     "text": [
      "lr_l1:0.601129 lr_l2:0.601129 knn:0.743926 tree:0.656986 rfc:0.763969 \n"
     ]
    }
   ],
   "source": [
    "import sklearn.metrics as metrics\n",
    "aucs = \"\"\n",
    "for  predicted, descr in zip([lr_predict_l1[:,1], lr_predict_l2[:,1],knn_predict[:,1],tree_predict[:,1],rfc_predict[:,1]],\n",
    "                                    [\"lr_l1\",\"lr_l2\",\"knn\", \"tree\",\"rfc\"]):\n",
    "    fpr, tpr, thr = metrics.roc_curve(y_test, predicted)\n",
    "    plt.plot(fpr, tpr,label=descr)\n",
    "    aucs += descr + \":%3f\"%roc_auc_score(y_test, predicted) + \" \"\n",
    "plt.title(\"ROC\")\n",
    "plt.xlabel(\"false positive rate\")\n",
    "plt.ylabel(\"true positive rate\")\n",
    "plt.legend(loc=5)\n",
    "plt.show()\n",
    "\n",
    "print(aucs)"
   ]
  },
  {
   "cell_type": "code",
   "execution_count": 19,
   "metadata": {
    "colab": {
     "base_uri": "https://localhost:8080/"
    },
    "executionInfo": {
     "elapsed": 113438,
     "status": "ok",
     "timestamp": 1606662306251,
     "user": {
      "displayName": "Ольга Гордеева",
      "photoUrl": "",
      "userId": "14305871576931202447"
     },
     "user_tz": -180
    },
    "id": "_nMe2af-GNLc",
    "outputId": "3da44f59-1ed8-48b9-8c91-99c66740724d"
   },
   "outputs": [
    {
     "name": "stdout",
     "output_type": "stream",
     "text": [
      "KNN METRICS:\n",
      "Accuracy: 0.6830858583091337\n",
      "Precision: 0.6253044481476734\n",
      "Recall: 0.6303139940560796\n",
      "ROC AUC: 0.676125414075224\n",
      "PRC AUC: 0.706188487991362\n",
      "F1: 0.6277992277992278\n",
      "F0.5: 0.6262999768892997\n",
      "F2: 0.6293056738137626\n",
      " \n",
      "RFC METRICS:\n",
      "Accuracy: 0.659525505451756\n",
      "Precision: 0.5999737773698702\n",
      "Recall: 0.5912908644527717\n",
      "ROC AUC: 0.6505255692126872\n",
      "PRC AUC: 0.6822851070600251\n",
      "F1: 0.5956006768189509\n",
      "F0.5: 0.5982168536094334\n",
      "F2: 0.593007283000285\n",
      " \n",
      "TREE METRICS:\n",
      "Accuracy: 0.659525505451756\n",
      "Precision: 0.5999737773698702\n",
      "Recall: 0.5912908644527717\n",
      "ROC AUC: 0.6505255692126872\n",
      "PRC AUC: 0.6822851070600251\n",
      "F1: 0.5956006768189509\n",
      "F0.5: 0.5982168536094334\n",
      "F2: 0.593007283000285\n",
      " \n",
      "LR_L1 METRICS:\n",
      "Accuracy: 0.5835844611254177\n",
      "Precision: 0.514853601196837\n",
      "Recall: 0.31128052719989663\n",
      "ROC AUC: 0.5476684218952299\n",
      "PRC AUC: 0.5590864603958354\n",
      "F1: 0.3879851827991625\n",
      "F0.5: 0.45530145530145527\n",
      "F2: 0.3380103830503718\n",
      " \n",
      "LR_L2 METRICS:\n",
      "Accuracy: 0.5835844611254177\n",
      "Precision: 0.514853601196837\n",
      "Recall: 0.31128052719989663\n",
      "ROC AUC: 0.5476684218952299\n",
      "PRC AUC: 0.5590864603958354\n",
      "F1: 0.3879851827991625\n",
      "F0.5: 0.45530145530145527\n",
      "F2: 0.3380103830503718\n"
     ]
    }
   ],
   "source": [
    "\n",
    "sknn_clf = KNeighborsClassifier(n_neighbors=3)\n",
    "sknn_clf.fit(X_train_scaled,y_train)\n",
    "sknn_labels = sknn_clf.predict(X_test_scaled)\n",
    "sknn_predict = sknn_clf.predict_proba(X_test_scaled)\n",
    "\n",
    "stree_clf = DecisionTreeClassifier(random_state=0)\n",
    "stree_clf.fit(X_train_scaled,y_train)\n",
    "stree_labels = stree_clf.predict(X_test_scaled)\n",
    "stree_predict = stree_clf.predict_proba(X_test_scaled)\n",
    "\n",
    "srfc = RandomForestClassifier()\n",
    "srfc.fit(X_train_scaled,y_train)\n",
    "srfc_labels = srfc.predict(X_test_scaled)\n",
    "srfc_predict = srfc.predict_proba(X_test_scaled)\n",
    "\n",
    "slr_clf_l1 = LogisticRegression(C=1,penalty='l1', solver='liblinear',max_iter=1000)\n",
    "slr_clf_l1.fit(X_train_scaled,y_train)\n",
    "slr_labels_l1 = slr_clf_l1.predict(X_test_scaled)\n",
    "slr_predict_l1 = slr_clf_l1.predict_proba(X_test_scaled)\n",
    "\n",
    "slr_clf_l2 = LogisticRegression(C=0.1,penalty='l2', solver='lbfgs',max_iter=1000)\n",
    "slr_clf_l2.fit(X_train_scaled,y_train)\n",
    "slr_labels_l2 = slr_clf_l1.predict(X_test_scaled)\n",
    "slr_predict_l2 = slr_clf_l1.predict_proba(X_test_scaled)\n",
    "\n",
    "print(\"KNN METRICS:\")\n",
    "classsifier_quality(sknn_labels)\n",
    "\n",
    "print(\" \")\n",
    "print(\"RFC METRICS:\")\n",
    "classsifier_quality(stree_labels)\n",
    "\n",
    "print(\" \")\n",
    "print(\"TREE METRICS:\")\n",
    "classsifier_quality(stree_labels)\n",
    "\n",
    "print(\" \")\n",
    "print(\"LR_L1 METRICS:\")\n",
    "classsifier_quality(slr_labels_l1)\n",
    "\n",
    "print(\" \")\n",
    "print(\"LR_L2 METRICS:\")\n",
    "classsifier_quality(slr_labels_l2)"
   ]
  },
  {
   "cell_type": "code",
   "execution_count": 37,
   "metadata": {
    "colab": {
     "base_uri": "https://localhost:8080/"
    },
    "executionInfo": {
     "elapsed": 2068,
     "status": "ok",
     "timestamp": 1606665623743,
     "user": {
      "displayName": "Ольга Гордеева",
      "photoUrl": "",
      "userId": "14305871576931202447"
     },
     "user_tz": -180
    },
    "id": "mTy7LcTRrlsn",
    "outputId": "dadb3a48-0552-46ea-a11e-1d80bd42079c"
   },
   "outputs": [
    {
     "name": "stdout",
     "output_type": "stream",
     "text": [
      "5\n",
      "[ True False False False False False  True False False False  True  True\n",
      "  True False]\n",
      "[ 1 10  9  8  7  4  1  3  2  5  1  1  1  6]\n",
      "{'MONTHS_BALANCE': [0.026104856017836138, 0.0, 0.0, 0.0, 0.0, -5.953850452461866e-07, 1.1535658673208339e-06, 2.3005153664664656e-07, -1.1605982372872022e-07, 2.8515130456444036e-07, -1.1695814496523152e-05, -7.347077273456877e-06, 7.759467110911498e-06, 0.0]}\n"
     ]
    }
   ],
   "source": [
    "\n",
    "from sklearn.feature_selection import RFE\n",
    "\n",
    "rfe = RFE(lr_clf_l1, 5)\n",
    "fit = rfe.fit(X_test, y_test)\n",
    "fit.n_features_\n",
    "print(fit.n_features_)\n",
    "print(fit.support_)\n",
    "print(fit.ranking_)\n",
    "\n",
    "#lr_clf_l1.coef_.tolist()\n",
    "\n",
    "print(dict(zip(X.columns, lr_clf_l1.coef_.tolist())))"
   ]
  },
  {
   "cell_type": "code",
   "execution_count": 33,
   "metadata": {
    "colab": {
     "base_uri": "https://localhost:8080/",
     "height": 313
    },
    "executionInfo": {
     "elapsed": 972,
     "status": "ok",
     "timestamp": 1606665211917,
     "user": {
      "displayName": "Ольга Гордеева",
      "photoUrl": "",
      "userId": "14305871576931202447"
     },
     "user_tz": -180
    },
    "id": "moneUfReHjCr",
    "outputId": "e8fc54ca-3fe8-4971-d766-0dd1df0236c5"
   },
   "outputs": [
    {
     "data": {
      "image/png": "[encoded data removed]",
      "text/plain": [
       "<Figure size 432x288 with 1 Axes>"
      ]
     },
     "metadata": {
      "needs_background": "light",
      "tags": []
     },
     "output_type": "display_data"
    },
    {
     "name": "stdout",
     "output_type": "stream",
     "text": [
      "slr_l1:0.598909 slr_l2:0.598909 sknn:0.730103 stree:0.658258 srfc:0.763532 \n"
     ]
    }
   ],
   "source": [
    "import sklearn.metrics as metrics\n",
    "aucs = \"\"\n",
    "for  predicted, descr in zip([slr_predict_l1[:,1], slr_predict_l2[:,1],sknn_predict[:,1],stree_predict[:,1],srfc_predict[:,1]],\n",
    "                                    [\"slr_l1\",\"slr_l2\",\"sknn\", \"stree\",\"srfc\"]):\n",
    "    fpr, tpr, thr = metrics.roc_curve(y_test, predicted)\n",
    "    plt.plot(fpr, tpr,label=descr)\n",
    "    aucs += descr + \":%3f\"%roc_auc_score(y_test, predicted) + \" \"\n",
    "plt.title(\"ROC\")\n",
    "plt.xlabel(\"false positive rate\")\n",
    "plt.ylabel(\"true positive rate\")\n",
    "plt.legend(loc=5)\n",
    "plt.show()\n",
    "\n",
    "print(aucs)"
   ]
  },
  {
   "cell_type": "code",
   "execution_count": 22,
   "metadata": {
    "colab": {
     "base_uri": "https://localhost:8080/",
     "height": 313
    },
    "executionInfo": {
     "elapsed": 746,
     "status": "ok",
     "timestamp": 1606662403130,
     "user": {
      "displayName": "Ольга Гордеева",
      "photoUrl": "",
      "userId": "14305871576931202447"
     },
     "user_tz": -180
    },
    "id": "9O8xJcTQeP3a",
    "outputId": "56ba00b9-651f-4f4f-87f3-cfc01f310ccb"
   },
   "outputs": [
    {
     "data": {
      "image/png": "[encoded data removed]",
      "text/plain": [
       "<Figure size 432x288 with 1 Axes>"
      ]
     },
     "metadata": {
      "needs_background": "light",
      "tags": []
     },
     "output_type": "display_data"
    },
    {
     "name": "stdout",
     "output_type": "stream",
     "text": [
      "slr_l1:0.598909 slr_l2:0.598909 lr_l1:0.601129 lr_l2:0.601129 \n"
     ]
    }
   ],
   "source": [
    "import sklearn.metrics as metrics\n",
    "aucs = \"\"\n",
    "for  predicted, descr in zip([slr_predict_l1[:,1], slr_predict_l2[:,1],lr_predict_l1[:,1],lr_predict_l2[:,1]],\n",
    "                                    [\"slr_l1\",\"slr_l2\",\"lr_l1\", \"lr_l2\"]):\n",
    "    fpr, tpr, thr = metrics.roc_curve(y_test, predicted)\n",
    "    plt.plot(fpr, tpr,label=descr)\n",
    "    aucs += descr + \":%3f\"%roc_auc_score(y_test, predicted) + \" \"\n",
    "plt.title(\"ROC\")\n",
    "plt.xlabel(\"false positive rate\")\n",
    "plt.ylabel(\"true positive rate\")\n",
    "plt.legend(loc=5)\n",
    "plt.show()\n",
    "\n",
    "print(aucs)"
   ]
  },
  {
   "cell_type": "code",
   "execution_count": null,
   "metadata": {
    "id": "wFzvLbVgirEH"
   },
   "outputs": [],
   "source": []
  }
 ],
 "metadata": {
  "colab": {
   "collapsed_sections": [],
   "name": "lab03.ipynb",
   "provenance": []
  },
  "kernelspec": {
   "display_name": "Python 3",
   "language": "python",
   "name": "python3"
  },
  "language_info": {
   "codemirror_mode": {
    "name": "ipython",
    "version": 3
   },
   "file_extension": ".py",
   "mimetype": "text/x-python",
   "name": "python",
   "nbconvert_exporter": "python",
   "pygments_lexer": "ipython3",
   "version": "3.8.5"
  }
 },
 "nbformat": 4,
 "nbformat_minor": 1
}
