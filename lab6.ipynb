{
 "cells": [
  {
   "cell_type": "code",
   "execution_count": 1,
   "metadata": {
    "colab": {
     "base_uri": "https://localhost:8080/"
    },
    "id": "k-pm3hELjWvO",
    "outputId": "c9a53e57-1a59-4b2d-b630-e1c73d5356bd"
   },
   "outputs": [
    {
     "name": "stdout",
     "output_type": "stream",
     "text": [
      "Requirement already satisfied: pymorphy2 in c:\\users\\user\\anaconda3\\lib\\site-packages (0.9.1)\n",
      "Requirement already satisfied: docopt>=0.6 in c:\\users\\user\\anaconda3\\lib\\site-packages (from pymorphy2) (0.6.2)\n",
      "Requirement already satisfied: pymorphy2-dicts-ru<3.0,>=2.4 in c:\\users\\user\\anaconda3\\lib\\site-packages (from pymorphy2) (2.4.417127.4579844)\n",
      "Requirement already satisfied: dawg-python>=0.7.1 in c:\\users\\user\\anaconda3\\lib\\site-packages (from pymorphy2) (0.7.2)\n",
      "Note: you may need to restart the kernel to use updated packages.\n"
     ]
    }
   ],
   "source": [
    "pip install pymorphy2\n"
   ]
  },
  {
   "cell_type": "code",
   "execution_count": 2,
   "metadata": {
    "colab": {
     "base_uri": "https://localhost:8080/"
    },
    "id": "hPl4TJN_ja2K",
    "outputId": "0543a792-c069-43d8-c298-a506ad64b61b"
   },
   "outputs": [
    {
     "name": "stdout",
     "output_type": "stream",
     "text": [
      "Requirement already satisfied: nltk in c:\\users\\user\\anaconda3\\lib\\site-packages (3.5)\n",
      "Requirement already satisfied: snowballstemmer in c:\\users\\user\\anaconda3\\lib\\site-packages (2.0.0)\n",
      "Requirement already satisfied: pymystem3 in c:\\users\\user\\anaconda3\\lib\\site-packages (0.2.0)\n",
      "Requirement already satisfied: gensim in c:\\users\\user\\anaconda3\\lib\\site-packages (3.8.3)\n",
      "Requirement already satisfied: click in c:\\users\\user\\anaconda3\\lib\\site-packages (from nltk) (7.1.2)\n",
      "Requirement already satisfied: regex in c:\\users\\user\\anaconda3\\lib\\site-packages (from nltk) (2020.10.15)\n",
      "Requirement already satisfied: joblib in c:\\users\\user\\anaconda3\\lib\\site-packages (from nltk) (0.17.0)\n",
      "Requirement already satisfied: tqdm in c:\\users\\user\\anaconda3\\lib\\site-packages (from nltk) (4.50.2)\n",
      "Requirement already satisfied: requests in c:\\users\\user\\anaconda3\\lib\\site-packages (from pymystem3) (2.24.0)\n",
      "Requirement already satisfied: numpy>=1.11.3 in c:\\users\\user\\anaconda3\\lib\\site-packages (from gensim) (1.19.2)\n",
      "Requirement already satisfied: scipy>=0.18.1 in c:\\users\\user\\anaconda3\\lib\\site-packages (from gensim) (1.5.2)\n",
      "Requirement already satisfied: smart-open>=1.8.1 in c:\\users\\user\\anaconda3\\lib\\site-packages (from gensim) (4.0.1)\n",
      "Requirement already satisfied: Cython==0.29.14 in c:\\users\\user\\anaconda3\\lib\\site-packages (from gensim) (0.29.14)\n",
      "Requirement already satisfied: six>=1.5.0 in c:\\users\\user\\anaconda3\\lib\\site-packages (from gensim) (1.15.0)\n",
      "Requirement already satisfied: certifi>=2017.4.17 in c:\\users\\user\\anaconda3\\lib\\site-packages (from requests->pymystem3) (2020.6.20)\n",
      "Requirement already satisfied: idna<3,>=2.5 in c:\\users\\user\\anaconda3\\lib\\site-packages (from requests->pymystem3) (2.10)\n",
      "Requirement already satisfied: urllib3!=1.25.0,!=1.25.1,<1.26,>=1.21.1 in c:\\users\\user\\anaconda3\\lib\\site-packages (from requests->pymystem3) (1.25.11)\n",
      "Requirement already satisfied: chardet<4,>=3.0.2 in c:\\users\\user\\anaconda3\\lib\\site-packages (from requests->pymystem3) (3.0.4)\n",
      "Note: you may need to restart the kernel to use updated packages.\n"
     ]
    }
   ],
   "source": [
    "pip install nltk snowballstemmer pymystem3 gensim"
   ]
  },
  {
   "cell_type": "code",
   "execution_count": 1,
   "metadata": {
    "colab": {
     "base_uri": "https://localhost:8080/"
    },
    "id": "YmRUxy-cjbmR",
    "outputId": "68529135-8033-4b66-8a51-b246a2e9619a"
   },
   "outputs": [
    {
     "name": "stderr",
     "output_type": "stream",
     "text": [
      "[nltk_data] Downloading package punkt to\n",
      "[nltk_data]     C:\\Users\\User\\AppData\\Roaming\\nltk_data...\n",
      "[nltk_data]   Package punkt is already up-to-date!\n"
     ]
    }
   ],
   "source": [
    "import pandas as pd\n",
    "import pymorphy2\n",
    "import pymystem3\n",
    "from snowballstemmer import EnglishStemmer\n",
    "import nltk\n",
    "nltk.download('punkt')\n",
    "import json\n",
    "import numpy as np\n",
    "import datetime as dt\n",
    "import matplotlib.pyplot as plt\n",
    "from sklearn.preprocessing import OneHotEncoder \n",
    "from sklearn.preprocessing import LabelEncoder "
   ]
  },
  {
   "cell_type": "code",
   "execution_count": 2,
   "metadata": {
    "colab": {
     "base_uri": "https://localhost:8080/"
    },
    "id": "q9te92VVjmrX",
    "outputId": "75b81ecb-a8ba-4942-bdcc-ab5d99fbce1b"
   },
   "outputs": [
    {
     "name": "stderr",
     "output_type": "stream",
     "text": [
      "C:\\Users\\User\\anaconda3\\lib\\site-packages\\IPython\\core\\interactiveshell.py:3146: DtypeWarning: Columns (3) have mixed types.Specify dtype option on import or set low_memory=False.\n",
      "  has_raised = await self.run_ast_nodes(code_ast.body, cell_name,\n"
     ]
    }
   ],
   "source": [
    "data = pd.read_csv(r'C:\\Users\\User\\Desktop\\labs/lenta-ru-news.csv')"
   ]
  },
  {
   "cell_type": "code",
   "execution_count": 3,
   "metadata": {
    "colab": {
     "base_uri": "https://localhost:8080/",
     "height": 589
    },
    "id": "uxz0-gPqjouv",
    "outputId": "3bcad0fd-584c-4a40-d629-eba9037eb82d"
   },
   "outputs": [
    {
     "data": {
      "text/html": [
       "<div>\n",
       "<style scoped>\n",
       "    .dataframe tbody tr th:only-of-type {\n",
       "        vertical-align: middle;\n",
       "    }\n",
       "\n",
       "    .dataframe tbody tr th {\n",
       "        vertical-align: top;\n",
       "    }\n",
       "\n",
       "    .dataframe thead th {\n",
       "        text-align: right;\n",
       "    }\n",
       "</style>\n",
       "<table border=\"1\" class=\"dataframe\">\n",
       "  <thead>\n",
       "    <tr style=\"text-align: right;\">\n",
       "      <th></th>\n",
       "      <th>url</th>\n",
       "      <th>title</th>\n",
       "      <th>text</th>\n",
       "      <th>topic</th>\n",
       "      <th>tags</th>\n",
       "      <th>date</th>\n",
       "    </tr>\n",
       "  </thead>\n",
       "  <tbody>\n",
       "    <tr>\n",
       "      <th>0</th>\n",
       "      <td>https://lenta.ru/news/1914/09/16/hungarnn/</td>\n",
       "      <td>1914. Русские войска вступили в пределы Венгрии</td>\n",
       "      <td>Бои у Сопоцкина и Друскеник закончились отступ...</td>\n",
       "      <td>Библиотека</td>\n",
       "      <td>Первая мировая</td>\n",
       "      <td>1914/09/16</td>\n",
       "    </tr>\n",
       "    <tr>\n",
       "      <th>1</th>\n",
       "      <td>https://lenta.ru/news/1914/09/16/lermontov/</td>\n",
       "      <td>1914. Празднование столетия М.Ю. Лермонтова от...</td>\n",
       "      <td>Министерство народного просвещения, в виду про...</td>\n",
       "      <td>Библиотека</td>\n",
       "      <td>Первая мировая</td>\n",
       "      <td>1914/09/16</td>\n",
       "    </tr>\n",
       "    <tr>\n",
       "      <th>2</th>\n",
       "      <td>https://lenta.ru/news/1914/09/17/nesteroff/</td>\n",
       "      <td>1914. Das ist Nesteroff!</td>\n",
       "      <td>Штабс-капитан П. Н. Нестеров на днях, увидев в...</td>\n",
       "      <td>Библиотека</td>\n",
       "      <td>Первая мировая</td>\n",
       "      <td>1914/09/17</td>\n",
       "    </tr>\n",
       "    <tr>\n",
       "      <th>3</th>\n",
       "      <td>https://lenta.ru/news/1914/09/17/bulldogn/</td>\n",
       "      <td>1914. Бульдог-гонец под Льежем</td>\n",
       "      <td>Фотограф-корреспондент Daily Mirror рассказыва...</td>\n",
       "      <td>Библиотека</td>\n",
       "      <td>Первая мировая</td>\n",
       "      <td>1914/09/17</td>\n",
       "    </tr>\n",
       "    <tr>\n",
       "      <th>4</th>\n",
       "      <td>https://lenta.ru/news/1914/09/18/zver/</td>\n",
       "      <td>1914. Под Люблином пойман швабский зверь</td>\n",
       "      <td>Лица, приехавшие в Варшаву из Люблина, передаю...</td>\n",
       "      <td>Библиотека</td>\n",
       "      <td>Первая мировая</td>\n",
       "      <td>1914/09/18</td>\n",
       "    </tr>\n",
       "    <tr>\n",
       "      <th>...</th>\n",
       "      <td>...</td>\n",
       "      <td>...</td>\n",
       "      <td>...</td>\n",
       "      <td>...</td>\n",
       "      <td>...</td>\n",
       "      <td>...</td>\n",
       "    </tr>\n",
       "    <tr>\n",
       "      <th>800970</th>\n",
       "      <td>https://lenta.ru/news/2019/12/14/shnur/</td>\n",
       "      <td>Шнуров раскритиковал Гагарину на «Голосе»</td>\n",
       "      <td>Певец Сергей Шнуров раскритиковал свою коллегу...</td>\n",
       "      <td>NaN</td>\n",
       "      <td>ТВ и радио</td>\n",
       "      <td>2019/12/14</td>\n",
       "    </tr>\n",
       "    <tr>\n",
       "      <th>800971</th>\n",
       "      <td>https://lenta.ru/news/2019/12/14/dolg/</td>\n",
       "      <td>В России предложили изменить правила взыскания...</td>\n",
       "      <td>Министерство юстиции России предложило изменит...</td>\n",
       "      <td>NaN</td>\n",
       "      <td>Все</td>\n",
       "      <td>2019/12/14</td>\n",
       "    </tr>\n",
       "    <tr>\n",
       "      <th>800972</th>\n",
       "      <td>https://lenta.ru/news/2019/12/14/dark_euro/</td>\n",
       "      <td>В России назвали «черную дату» для Европы</td>\n",
       "      <td>Испытание США ранее запрещенной Договором о ли...</td>\n",
       "      <td>NaN</td>\n",
       "      <td>Политика</td>\n",
       "      <td>2019/12/14</td>\n",
       "    </tr>\n",
       "    <tr>\n",
       "      <th>800973</th>\n",
       "      <td>https://lenta.ru/news/2019/12/14/meteo/</td>\n",
       "      <td>Россиянам пообещали аномально теплую погоду</td>\n",
       "      <td>В ближайшие дни в европейской части России пог...</td>\n",
       "      <td>NaN</td>\n",
       "      <td>Общество</td>\n",
       "      <td>2019/12/14</td>\n",
       "    </tr>\n",
       "    <tr>\n",
       "      <th>800974</th>\n",
       "      <td>https://lenta.ru/news/2019/12/14/olimp/</td>\n",
       "      <td>В конкурсе прогнозов на АПЛ разыграют 100 тыся...</td>\n",
       "      <td>Ведущие футбольные чемпионаты ушли на зимние к...</td>\n",
       "      <td>NaN</td>\n",
       "      <td>Английский футбол</td>\n",
       "      <td>2019/12/14</td>\n",
       "    </tr>\n",
       "  </tbody>\n",
       "</table>\n",
       "<p>800975 rows × 6 columns</p>\n",
       "</div>"
      ],
      "text/plain": [
       "                                                url  \\\n",
       "0        https://lenta.ru/news/1914/09/16/hungarnn/   \n",
       "1       https://lenta.ru/news/1914/09/16/lermontov/   \n",
       "2       https://lenta.ru/news/1914/09/17/nesteroff/   \n",
       "3        https://lenta.ru/news/1914/09/17/bulldogn/   \n",
       "4            https://lenta.ru/news/1914/09/18/zver/   \n",
       "...                                             ...   \n",
       "800970      https://lenta.ru/news/2019/12/14/shnur/   \n",
       "800971       https://lenta.ru/news/2019/12/14/dolg/   \n",
       "800972  https://lenta.ru/news/2019/12/14/dark_euro/   \n",
       "800973      https://lenta.ru/news/2019/12/14/meteo/   \n",
       "800974      https://lenta.ru/news/2019/12/14/olimp/   \n",
       "\n",
       "                                                    title  \\\n",
       "0       1914. Русские войска вступили в пределы Венгрии     \n",
       "1       1914. Празднование столетия М.Ю. Лермонтова от...   \n",
       "2                                1914. Das ist Nesteroff!   \n",
       "3                         1914. Бульдог-гонец под Льежем    \n",
       "4                1914. Под Люблином пойман швабский зверь   \n",
       "...                                                   ...   \n",
       "800970          Шнуров раскритиковал Гагарину на «Голосе»   \n",
       "800971  В России предложили изменить правила взыскания...   \n",
       "800972          В России назвали «черную дату» для Европы   \n",
       "800973        Россиянам пообещали аномально теплую погоду   \n",
       "800974  В конкурсе прогнозов на АПЛ разыграют 100 тыся...   \n",
       "\n",
       "                                                     text       topic  \\\n",
       "0       Бои у Сопоцкина и Друскеник закончились отступ...  Библиотека   \n",
       "1       Министерство народного просвещения, в виду про...  Библиотека   \n",
       "2       Штабс-капитан П. Н. Нестеров на днях, увидев в...  Библиотека   \n",
       "3       Фотограф-корреспондент Daily Mirror рассказыва...  Библиотека   \n",
       "4       Лица, приехавшие в Варшаву из Люблина, передаю...  Библиотека   \n",
       "...                                                   ...         ...   \n",
       "800970  Певец Сергей Шнуров раскритиковал свою коллегу...         NaN   \n",
       "800971  Министерство юстиции России предложило изменит...         NaN   \n",
       "800972  Испытание США ранее запрещенной Договором о ли...         NaN   \n",
       "800973  В ближайшие дни в европейской части России пог...         NaN   \n",
       "800974  Ведущие футбольные чемпионаты ушли на зимние к...         NaN   \n",
       "\n",
       "                     tags        date  \n",
       "0          Первая мировая  1914/09/16  \n",
       "1          Первая мировая  1914/09/16  \n",
       "2          Первая мировая  1914/09/17  \n",
       "3          Первая мировая  1914/09/17  \n",
       "4          Первая мировая  1914/09/18  \n",
       "...                   ...         ...  \n",
       "800970         ТВ и радио  2019/12/14  \n",
       "800971                Все  2019/12/14  \n",
       "800972           Политика  2019/12/14  \n",
       "800973           Общество  2019/12/14  \n",
       "800974  Английский футбол  2019/12/14  \n",
       "\n",
       "[800975 rows x 6 columns]"
      ]
     },
     "execution_count": 3,
     "metadata": {},
     "output_type": "execute_result"
    }
   ],
   "source": [
    "data"
   ]
  },
  {
   "cell_type": "code",
   "execution_count": 4,
   "metadata": {
    "colab": {
     "base_uri": "https://localhost:8080/"
    },
    "id": "H66uHTK7pABe",
    "outputId": "59164862-98ae-4212-fdec-840bb0671d63"
   },
   "outputs": [
    {
     "data": {
      "text/plain": [
       "Все               453762\n",
       "Политика           40716\n",
       "Общество           35202\n",
       "Украина            22523\n",
       "Происшествия       19825\n",
       "                   ...  \n",
       "Мировой опыт           6\n",
       "Нацпроекты             6\n",
       "Вооружение             3\n",
       "69-я параллель         1\n",
       "Инновации              1\n",
       "Name: tags, Length: 94, dtype: int64"
      ]
     },
     "execution_count": 4,
     "metadata": {},
     "output_type": "execute_result"
    }
   ],
   "source": [
    "data['tags'].value_counts()"
   ]
  },
  {
   "cell_type": "markdown",
   "metadata": {
    "id": "3s4ew1w8NMSz"
   },
   "source": [
    "Используем Label Encode, удалим ненужные признаки, а также заполним пропуски в таблице\n"
   ]
  },
  {
   "cell_type": "code",
   "execution_count": 8,
   "metadata": {
    "colab": {
     "base_uri": "https://localhost:8080/"
    },
    "id": "kHPkxe4rpLke",
    "outputId": "49d9ebdb-b957-49d9-9f5d-934102d225b3"
   },
   "outputs": [
    {
     "data": {
      "text/plain": [
       "url      False\n",
       "title    False\n",
       "text      True\n",
       "topic     True\n",
       "tags      True\n",
       "date     False\n",
       "dtype: bool"
      ]
     },
     "execution_count": 8,
     "metadata": {},
     "output_type": "execute_result"
    }
   ],
   "source": [
    "data.isna().any()"
   ]
  },
  {
   "cell_type": "code",
   "execution_count": 9,
   "metadata": {
    "colab": {
     "base_uri": "https://localhost:8080/",
     "height": 589
    },
    "id": "Jzkp_WY_pPw6",
    "outputId": "aa16ffbb-4df0-4d0d-e44d-9d11a54d56e8"
   },
   "outputs": [
    {
     "data": {
      "text/html": [
       "<div>\n",
       "<style scoped>\n",
       "    .dataframe tbody tr th:only-of-type {\n",
       "        vertical-align: middle;\n",
       "    }\n",
       "\n",
       "    .dataframe tbody tr th {\n",
       "        vertical-align: top;\n",
       "    }\n",
       "\n",
       "    .dataframe thead th {\n",
       "        text-align: right;\n",
       "    }\n",
       "</style>\n",
       "<table border=\"1\" class=\"dataframe\">\n",
       "  <thead>\n",
       "    <tr style=\"text-align: right;\">\n",
       "      <th></th>\n",
       "      <th>url</th>\n",
       "      <th>title</th>\n",
       "      <th>text</th>\n",
       "      <th>topic</th>\n",
       "      <th>tags</th>\n",
       "      <th>date</th>\n",
       "    </tr>\n",
       "  </thead>\n",
       "  <tbody>\n",
       "    <tr>\n",
       "      <th>0</th>\n",
       "      <td>https://lenta.ru/news/2006/07/18/costofwar/</td>\n",
       "      <td>Война с Ливаном стоит Израилю полмиллиарда шек...</td>\n",
       "      <td>Цена войны с Ливаном составляет для Израиля 50...</td>\n",
       "      <td>Мир</td>\n",
       "      <td>Все</td>\n",
       "      <td>2006/07/18</td>\n",
       "    </tr>\n",
       "    <tr>\n",
       "      <th>1</th>\n",
       "      <td>https://lenta.ru/news/2010/03/12/football/</td>\n",
       "      <td>Первый гол чемпионата России забил японец в до...</td>\n",
       "      <td>В пятницу в первом матче 1 тура 19-го чемпиона...</td>\n",
       "      <td>Спорт</td>\n",
       "      <td>Все</td>\n",
       "      <td>2010/03/12</td>\n",
       "    </tr>\n",
       "    <tr>\n",
       "      <th>2</th>\n",
       "      <td>https://lenta.ru/news/2008/03/19/march1/</td>\n",
       "      <td>\"Другая Россия\" проведет акции перед инаугурац...</td>\n",
       "      <td>Лидеры оппозиционной организации \"Другая Росси...</td>\n",
       "      <td>Россия</td>\n",
       "      <td>Все</td>\n",
       "      <td>2008/03/19</td>\n",
       "    </tr>\n",
       "    <tr>\n",
       "      <th>3</th>\n",
       "      <td>https://lenta.ru/news/2015/07/06/election/</td>\n",
       "      <td>В ЛНР определили дату местных выборов</td>\n",
       "      <td>Глава самопровозглашенной Луганской народной р...</td>\n",
       "      <td>Бывший СССР</td>\n",
       "      <td>Украина</td>\n",
       "      <td>2015/07/06</td>\n",
       "    </tr>\n",
       "    <tr>\n",
       "      <th>4</th>\n",
       "      <td>https://lenta.ru/news/2013/09/18/proton/</td>\n",
       "      <td>Физики впервые измерили слабый заряд протона</td>\n",
       "      <td>Физики впервые провели экспериментальное измер...</td>\n",
       "      <td>Наука и техника</td>\n",
       "      <td>Наука</td>\n",
       "      <td>2013/09/18</td>\n",
       "    </tr>\n",
       "    <tr>\n",
       "      <th>...</th>\n",
       "      <td>...</td>\n",
       "      <td>...</td>\n",
       "      <td>...</td>\n",
       "      <td>...</td>\n",
       "      <td>...</td>\n",
       "      <td>...</td>\n",
       "    </tr>\n",
       "    <tr>\n",
       "      <th>17784</th>\n",
       "      <td>https://lenta.ru/news/2003/11/01/hohmann/</td>\n",
       "      <td>Депутат Бундестага сравнил евреев-большевиков ...</td>\n",
       "      <td>Депутат немецкого парламента от Христианско-де...</td>\n",
       "      <td>Мир</td>\n",
       "      <td>Все</td>\n",
       "      <td>2003/11/01</td>\n",
       "    </tr>\n",
       "    <tr>\n",
       "      <th>17785</th>\n",
       "      <td>https://lenta.ru/news/2017/12/19/mummy/</td>\n",
       "      <td>Мумия пенсионерки семь лет пролежала в квартире</td>\n",
       "      <td>В квартире одной из многоэтажек Металлургическ...</td>\n",
       "      <td>Дом</td>\n",
       "      <td>Квартира</td>\n",
       "      <td>2017/12/19</td>\n",
       "    </tr>\n",
       "    <tr>\n",
       "      <th>17786</th>\n",
       "      <td>https://lenta.ru/news/2014/07/02/su24/</td>\n",
       "      <td>Ополченцы из ПЗРК подбили Су-24</td>\n",
       "      <td>Бомбардировщик Су-24, принадлежащий украинской...</td>\n",
       "      <td>Бывший СССР</td>\n",
       "      <td>Украина</td>\n",
       "      <td>2014/07/02</td>\n",
       "    </tr>\n",
       "    <tr>\n",
       "      <th>17787</th>\n",
       "      <td>https://lenta.ru/news/2011/12/30/kolskaya/</td>\n",
       "      <td>Прокуратура выявила нарушения у собственника п...</td>\n",
       "      <td>Дальневосточная транспортная прокуратура выяви...</td>\n",
       "      <td>Россия</td>\n",
       "      <td>Все</td>\n",
       "      <td>2011/12/30</td>\n",
       "    </tr>\n",
       "    <tr>\n",
       "      <th>17788</th>\n",
       "      <td>https://lenta.ru/news/2017/02/08/istochnik/</td>\n",
       "      <td>Источник сообщил подробности гибели комбата Гиви</td>\n",
       "      <td>Источник, близкий к властям самопровозглашенно...</td>\n",
       "      <td>Бывший СССР</td>\n",
       "      <td>Украина</td>\n",
       "      <td>2017/02/08</td>\n",
       "    </tr>\n",
       "  </tbody>\n",
       "</table>\n",
       "<p>17789 rows × 6 columns</p>\n",
       "</div>"
      ],
      "text/plain": [
       "                                               url  \\\n",
       "0      https://lenta.ru/news/2006/07/18/costofwar/   \n",
       "1       https://lenta.ru/news/2010/03/12/football/   \n",
       "2         https://lenta.ru/news/2008/03/19/march1/   \n",
       "3       https://lenta.ru/news/2015/07/06/election/   \n",
       "4         https://lenta.ru/news/2013/09/18/proton/   \n",
       "...                                            ...   \n",
       "17784    https://lenta.ru/news/2003/11/01/hohmann/   \n",
       "17785      https://lenta.ru/news/2017/12/19/mummy/   \n",
       "17786       https://lenta.ru/news/2014/07/02/su24/   \n",
       "17787   https://lenta.ru/news/2011/12/30/kolskaya/   \n",
       "17788  https://lenta.ru/news/2017/02/08/istochnik/   \n",
       "\n",
       "                                                   title  \\\n",
       "0      Война с Ливаном стоит Израилю полмиллиарда шек...   \n",
       "1      Первый гол чемпионата России забил японец в до...   \n",
       "2      \"Другая Россия\" проведет акции перед инаугурац...   \n",
       "3                  В ЛНР определили дату местных выборов   \n",
       "4           Физики впервые измерили слабый заряд протона   \n",
       "...                                                  ...   \n",
       "17784  Депутат Бундестага сравнил евреев-большевиков ...   \n",
       "17785    Мумия пенсионерки семь лет пролежала в квартире   \n",
       "17786                   Ополченцы из ПЗРК подбили Су-24    \n",
       "17787  Прокуратура выявила нарушения у собственника п...   \n",
       "17788   Источник сообщил подробности гибели комбата Гиви   \n",
       "\n",
       "                                                    text            topic  \\\n",
       "0      Цена войны с Ливаном составляет для Израиля 50...              Мир   \n",
       "1      В пятницу в первом матче 1 тура 19-го чемпиона...            Спорт   \n",
       "2      Лидеры оппозиционной организации \"Другая Росси...           Россия   \n",
       "3      Глава самопровозглашенной Луганской народной р...      Бывший СССР   \n",
       "4      Физики впервые провели экспериментальное измер...  Наука и техника   \n",
       "...                                                  ...              ...   \n",
       "17784  Депутат немецкого парламента от Христианско-де...              Мир   \n",
       "17785  В квартире одной из многоэтажек Металлургическ...              Дом   \n",
       "17786  Бомбардировщик Су-24, принадлежащий украинской...      Бывший СССР   \n",
       "17787  Дальневосточная транспортная прокуратура выяви...           Россия   \n",
       "17788  Источник, близкий к властям самопровозглашенно...      Бывший СССР   \n",
       "\n",
       "           tags        date  \n",
       "0           Все  2006/07/18  \n",
       "1           Все  2010/03/12  \n",
       "2           Все  2008/03/19  \n",
       "3       Украина  2015/07/06  \n",
       "4         Наука  2013/09/18  \n",
       "...         ...         ...  \n",
       "17784       Все  2003/11/01  \n",
       "17785  Квартира  2017/12/19  \n",
       "17786   Украина  2014/07/02  \n",
       "17787       Все  2011/12/30  \n",
       "17788   Украина  2017/02/08  \n",
       "\n",
       "[17789 rows x 6 columns]"
      ]
     },
     "execution_count": 9,
     "metadata": {},
     "output_type": "execute_result"
    }
   ],
   "source": [
    "data = data.sample(20000)\n",
    "data.dropna(inplace=True)\n",
    "data.reset_index(drop=True, inplace=True)\n",
    "data"
   ]
  },
  {
   "cell_type": "code",
   "execution_count": 10,
   "metadata": {
    "colab": {
     "base_uri": "https://localhost:8080/",
     "height": 415
    },
    "id": "iquKZQjcpTZ-",
    "outputId": "447be8f8-3ad6-4d4a-9c16-02524fdbfe17"
   },
   "outputs": [
    {
     "data": {
      "text/html": [
       "<div>\n",
       "<style scoped>\n",
       "    .dataframe tbody tr th:only-of-type {\n",
       "        vertical-align: middle;\n",
       "    }\n",
       "\n",
       "    .dataframe tbody tr th {\n",
       "        vertical-align: top;\n",
       "    }\n",
       "\n",
       "    .dataframe thead th {\n",
       "        text-align: right;\n",
       "    }\n",
       "</style>\n",
       "<table border=\"1\" class=\"dataframe\">\n",
       "  <thead>\n",
       "    <tr style=\"text-align: right;\">\n",
       "      <th></th>\n",
       "      <th>text</th>\n",
       "      <th>tags</th>\n",
       "    </tr>\n",
       "  </thead>\n",
       "  <tbody>\n",
       "    <tr>\n",
       "      <th>0</th>\n",
       "      <td>Цена войны с Ливаном составляет для Израиля 50...</td>\n",
       "      <td>Все</td>\n",
       "    </tr>\n",
       "    <tr>\n",
       "      <th>1</th>\n",
       "      <td>В пятницу в первом матче 1 тура 19-го чемпиона...</td>\n",
       "      <td>Все</td>\n",
       "    </tr>\n",
       "    <tr>\n",
       "      <th>2</th>\n",
       "      <td>Лидеры оппозиционной организации \"Другая Росси...</td>\n",
       "      <td>Все</td>\n",
       "    </tr>\n",
       "    <tr>\n",
       "      <th>3</th>\n",
       "      <td>Глава самопровозглашенной Луганской народной р...</td>\n",
       "      <td>Украина</td>\n",
       "    </tr>\n",
       "    <tr>\n",
       "      <th>4</th>\n",
       "      <td>Физики впервые провели экспериментальное измер...</td>\n",
       "      <td>Наука</td>\n",
       "    </tr>\n",
       "    <tr>\n",
       "      <th>...</th>\n",
       "      <td>...</td>\n",
       "      <td>...</td>\n",
       "    </tr>\n",
       "    <tr>\n",
       "      <th>17784</th>\n",
       "      <td>Депутат немецкого парламента от Христианско-де...</td>\n",
       "      <td>Все</td>\n",
       "    </tr>\n",
       "    <tr>\n",
       "      <th>17785</th>\n",
       "      <td>В квартире одной из многоэтажек Металлургическ...</td>\n",
       "      <td>Квартира</td>\n",
       "    </tr>\n",
       "    <tr>\n",
       "      <th>17786</th>\n",
       "      <td>Бомбардировщик Су-24, принадлежащий украинской...</td>\n",
       "      <td>Украина</td>\n",
       "    </tr>\n",
       "    <tr>\n",
       "      <th>17787</th>\n",
       "      <td>Дальневосточная транспортная прокуратура выяви...</td>\n",
       "      <td>Все</td>\n",
       "    </tr>\n",
       "    <tr>\n",
       "      <th>17788</th>\n",
       "      <td>Источник, близкий к властям самопровозглашенно...</td>\n",
       "      <td>Украина</td>\n",
       "    </tr>\n",
       "  </tbody>\n",
       "</table>\n",
       "<p>17789 rows × 2 columns</p>\n",
       "</div>"
      ],
      "text/plain": [
       "                                                    text      tags\n",
       "0      Цена войны с Ливаном составляет для Израиля 50...       Все\n",
       "1      В пятницу в первом матче 1 тура 19-го чемпиона...       Все\n",
       "2      Лидеры оппозиционной организации \"Другая Росси...       Все\n",
       "3      Глава самопровозглашенной Луганской народной р...   Украина\n",
       "4      Физики впервые провели экспериментальное измер...     Наука\n",
       "...                                                  ...       ...\n",
       "17784  Депутат немецкого парламента от Христианско-де...       Все\n",
       "17785  В квартире одной из многоэтажек Металлургическ...  Квартира\n",
       "17786  Бомбардировщик Су-24, принадлежащий украинской...   Украина\n",
       "17787  Дальневосточная транспортная прокуратура выяви...       Все\n",
       "17788  Источник, близкий к властям самопровозглашенно...   Украина\n",
       "\n",
       "[17789 rows x 2 columns]"
      ]
     },
     "execution_count": 10,
     "metadata": {},
     "output_type": "execute_result"
    }
   ],
   "source": [
    "data = data.drop(['url', 'title', 'date', 'topic'], axis='columns')\n",
    "data"
   ]
  },
  {
   "cell_type": "code",
   "execution_count": 11,
   "metadata": {
    "colab": {
     "base_uri": "https://localhost:8080/",
     "height": 415
    },
    "id": "fvqnGYXapaxT",
    "outputId": "c5999201-776c-4140-de15-d3fd170d44b3"
   },
   "outputs": [
    {
     "data": {
      "text/html": [
       "<div>\n",
       "<style scoped>\n",
       "    .dataframe tbody tr th:only-of-type {\n",
       "        vertical-align: middle;\n",
       "    }\n",
       "\n",
       "    .dataframe tbody tr th {\n",
       "        vertical-align: top;\n",
       "    }\n",
       "\n",
       "    .dataframe thead th {\n",
       "        text-align: right;\n",
       "    }\n",
       "</style>\n",
       "<table border=\"1\" class=\"dataframe\">\n",
       "  <thead>\n",
       "    <tr style=\"text-align: right;\">\n",
       "      <th></th>\n",
       "      <th>text</th>\n",
       "      <th>tags</th>\n",
       "    </tr>\n",
       "  </thead>\n",
       "  <tbody>\n",
       "    <tr>\n",
       "      <th>0</th>\n",
       "      <td>Цена войны с Ливаном составляет для Израиля 50...</td>\n",
       "      <td>10</td>\n",
       "    </tr>\n",
       "    <tr>\n",
       "      <th>1</th>\n",
       "      <td>В пятницу в первом матче 1 тура 19-го чемпиона...</td>\n",
       "      <td>10</td>\n",
       "    </tr>\n",
       "    <tr>\n",
       "      <th>2</th>\n",
       "      <td>Лидеры оппозиционной организации \"Другая Росси...</td>\n",
       "      <td>10</td>\n",
       "    </tr>\n",
       "    <tr>\n",
       "      <th>3</th>\n",
       "      <td>Глава самопровозглашенной Луганской народной р...</td>\n",
       "      <td>74</td>\n",
       "    </tr>\n",
       "    <tr>\n",
       "      <th>4</th>\n",
       "      <td>Физики впервые провели экспериментальное измер...</td>\n",
       "      <td>46</td>\n",
       "    </tr>\n",
       "    <tr>\n",
       "      <th>...</th>\n",
       "      <td>...</td>\n",
       "      <td>...</td>\n",
       "    </tr>\n",
       "    <tr>\n",
       "      <th>17784</th>\n",
       "      <td>Депутат немецкого парламента от Христианско-де...</td>\n",
       "      <td>10</td>\n",
       "    </tr>\n",
       "    <tr>\n",
       "      <th>17785</th>\n",
       "      <td>В квартире одной из многоэтажек Металлургическ...</td>\n",
       "      <td>30</td>\n",
       "    </tr>\n",
       "    <tr>\n",
       "      <th>17786</th>\n",
       "      <td>Бомбардировщик Су-24, принадлежащий украинской...</td>\n",
       "      <td>74</td>\n",
       "    </tr>\n",
       "    <tr>\n",
       "      <th>17787</th>\n",
       "      <td>Дальневосточная транспортная прокуратура выяви...</td>\n",
       "      <td>10</td>\n",
       "    </tr>\n",
       "    <tr>\n",
       "      <th>17788</th>\n",
       "      <td>Источник, близкий к властям самопровозглашенно...</td>\n",
       "      <td>74</td>\n",
       "    </tr>\n",
       "  </tbody>\n",
       "</table>\n",
       "<p>17789 rows × 2 columns</p>\n",
       "</div>"
      ],
      "text/plain": [
       "                                                    text  tags\n",
       "0      Цена войны с Ливаном составляет для Израиля 50...    10\n",
       "1      В пятницу в первом матче 1 тура 19-го чемпиона...    10\n",
       "2      Лидеры оппозиционной организации \"Другая Росси...    10\n",
       "3      Глава самопровозглашенной Луганской народной р...    74\n",
       "4      Физики впервые провели экспериментальное измер...    46\n",
       "...                                                  ...   ...\n",
       "17784  Депутат немецкого парламента от Христианско-де...    10\n",
       "17785  В квартире одной из многоэтажек Металлургическ...    30\n",
       "17786  Бомбардировщик Су-24, принадлежащий украинской...    74\n",
       "17787  Дальневосточная транспортная прокуратура выяви...    10\n",
       "17788  Источник, близкий к властям самопровозглашенно...    74\n",
       "\n",
       "[17789 rows x 2 columns]"
      ]
     },
     "execution_count": 11,
     "metadata": {},
     "output_type": "execute_result"
    }
   ],
   "source": [
    "labelencoder = LabelEncoder()\n",
    "data['tags'] = labelencoder.fit_transform(data['tags'])\n",
    "data\n"
   ]
  },
  {
   "cell_type": "code",
   "execution_count": 12,
   "metadata": {
    "id": "QbtGQWQvJS2a"
   },
   "outputs": [],
   "source": [
    "for i in range (11412): \n",
    "    if (i == 49) or (i == 53):\n",
    "        continue\n",
    "    else:\n",
    "        data = data[data.tags != i]"
   ]
  },
  {
   "cell_type": "code",
   "execution_count": 13,
   "metadata": {
    "colab": {
     "base_uri": "https://localhost:8080/"
    },
    "id": "IaHe3y36pf82",
    "outputId": "9f4b4904-4b2c-4170-ca44-0a2da5fd10ca"
   },
   "outputs": [
    {
     "data": {
      "text/plain": [
       "53    46\n",
       "49    25\n",
       "Name: tags, dtype: int64"
      ]
     },
     "execution_count": 13,
     "metadata": {},
     "output_type": "execute_result"
    }
   ],
   "source": [
    "data['tags'].value_counts()"
   ]
  },
  {
   "cell_type": "code",
   "execution_count": 14,
   "metadata": {
    "colab": {
     "base_uri": "https://localhost:8080/",
     "height": 415
    },
    "id": "Xq4PQzTYJ3-P",
    "outputId": "026e1da9-43d2-4530-f8aa-f8b3c3f4bfae"
   },
   "outputs": [
    {
     "data": {
      "text/html": [
       "<div>\n",
       "<style scoped>\n",
       "    .dataframe tbody tr th:only-of-type {\n",
       "        vertical-align: middle;\n",
       "    }\n",
       "\n",
       "    .dataframe tbody tr th {\n",
       "        vertical-align: top;\n",
       "    }\n",
       "\n",
       "    .dataframe thead th {\n",
       "        text-align: right;\n",
       "    }\n",
       "</style>\n",
       "<table border=\"1\" class=\"dataframe\">\n",
       "  <thead>\n",
       "    <tr style=\"text-align: right;\">\n",
       "      <th></th>\n",
       "      <th>text</th>\n",
       "      <th>tags</th>\n",
       "    </tr>\n",
       "  </thead>\n",
       "  <tbody>\n",
       "    <tr>\n",
       "      <th>0</th>\n",
       "      <td>Москва заняла 17-е место в мире по стоимости а...</td>\n",
       "      <td>49</td>\n",
       "    </tr>\n",
       "    <tr>\n",
       "      <th>1</th>\n",
       "      <td>Корреспондента немецкой газеты Die Welt Дениза...</td>\n",
       "      <td>53</td>\n",
       "    </tr>\n",
       "    <tr>\n",
       "      <th>2</th>\n",
       "      <td>ФГУП «Российская телевизионная и радиовещатель...</td>\n",
       "      <td>49</td>\n",
       "    </tr>\n",
       "    <tr>\n",
       "      <th>3</th>\n",
       "      <td>Японский ресторан Chojiya, существующий более ...</td>\n",
       "      <td>49</td>\n",
       "    </tr>\n",
       "    <tr>\n",
       "      <th>4</th>\n",
       "      <td>Французская актриса русского происхождения Мар...</td>\n",
       "      <td>53</td>\n",
       "    </tr>\n",
       "    <tr>\n",
       "      <th>...</th>\n",
       "      <td>...</td>\n",
       "      <td>...</td>\n",
       "    </tr>\n",
       "    <tr>\n",
       "      <th>66</th>\n",
       "      <td>В Московском регионе приостановлено возведение...</td>\n",
       "      <td>49</td>\n",
       "    </tr>\n",
       "    <tr>\n",
       "      <th>67</th>\n",
       "      <td>Роскомнадзор вынес предупреждения четырем инте...</td>\n",
       "      <td>53</td>\n",
       "    </tr>\n",
       "    <tr>\n",
       "      <th>68</th>\n",
       "      <td>Спецкора «Комсомольской Правды» Дарью Асламову...</td>\n",
       "      <td>53</td>\n",
       "    </tr>\n",
       "    <tr>\n",
       "      <th>69</th>\n",
       "      <td>Министерство культуры РФ сообщило об успешной ...</td>\n",
       "      <td>49</td>\n",
       "    </tr>\n",
       "    <tr>\n",
       "      <th>70</th>\n",
       "      <td>Администрация президента Сирии Башара Асада ул...</td>\n",
       "      <td>53</td>\n",
       "    </tr>\n",
       "  </tbody>\n",
       "</table>\n",
       "<p>71 rows × 2 columns</p>\n",
       "</div>"
      ],
      "text/plain": [
       "                                                 text  tags\n",
       "0   Москва заняла 17-е место в мире по стоимости а...    49\n",
       "1   Корреспондента немецкой газеты Die Welt Дениза...    53\n",
       "2   ФГУП «Российская телевизионная и радиовещатель...    49\n",
       "3   Японский ресторан Chojiya, существующий более ...    49\n",
       "4   Французская актриса русского происхождения Мар...    53\n",
       "..                                                ...   ...\n",
       "66  В Московском регионе приостановлено возведение...    49\n",
       "67  Роскомнадзор вынес предупреждения четырем инте...    53\n",
       "68  Спецкора «Комсомольской Правды» Дарью Асламову...    53\n",
       "69  Министерство культуры РФ сообщило об успешной ...    49\n",
       "70  Администрация президента Сирии Башара Асада ул...    53\n",
       "\n",
       "[71 rows x 2 columns]"
      ]
     },
     "execution_count": 14,
     "metadata": {},
     "output_type": "execute_result"
    }
   ],
   "source": [
    "data.reset_index(drop=True, inplace=True)\n",
    "data"
   ]
  },
  {
   "cell_type": "code",
   "execution_count": 15,
   "metadata": {
    "colab": {
     "base_uri": "https://localhost:8080/"
    },
    "id": "e9UUDOYNp1XX",
    "outputId": "7ed77985-100c-4735-ccdf-8634fed109d1"
   },
   "outputs": [
    {
     "name": "stderr",
     "output_type": "stream",
     "text": [
      "[nltk_data] Downloading package punkt to\n",
      "[nltk_data]     C:\\Users\\User\\AppData\\Roaming\\nltk_data...\n",
      "[nltk_data]   Package punkt is already up-to-date!\n",
      "[nltk_data] Downloading package stopwords to\n",
      "[nltk_data]     C:\\Users\\User\\AppData\\Roaming\\nltk_data...\n",
      "[nltk_data]   Unzipping corpora\\stopwords.zip.\n"
     ]
    }
   ],
   "source": [
    "from string import punctuation\n",
    "nltk.download('punkt')\n",
    "nltk.download('stopwords')\n",
    "import pymorphy2\n",
    "morph = pymorphy2.MorphAnalyzer()\n",
    "\n",
    "def lemmatize(input_text):\n",
    "    tokens = nltk.word_tokenize(input_text)\n",
    "    normed_tokens = [morph.parse(s)[0].normal_form for s in tokens]\n",
    "    # исключим также стоп-слова\n",
    "    normed_tokens = [word for word in normed_tokens if word not in nltk.corpus.stopwords.words(\"english\")]\n",
    "    # а также знаки препинания\n",
    "    normed_tokens = [word for word in normed_tokens if word not in punctuation]\n",
    "    return ' '.join(normed_tokens)"
   ]
  },
  {
   "cell_type": "code",
   "execution_count": 16,
   "metadata": {
    "colab": {
     "base_uri": "https://localhost:8080/"
    },
    "id": "eDT22iWCp6ya",
    "outputId": "98b5ffc4-7a08-442b-bb03-805afec85272"
   },
   "outputs": [
    {
     "name": "stdout",
     "output_type": "stream",
     "text": [
      "Wall time: 14.8 s\n"
     ]
    },
    {
     "data": {
      "text/html": [
       "<div>\n",
       "<style scoped>\n",
       "    .dataframe tbody tr th:only-of-type {\n",
       "        vertical-align: middle;\n",
       "    }\n",
       "\n",
       "    .dataframe tbody tr th {\n",
       "        vertical-align: top;\n",
       "    }\n",
       "\n",
       "    .dataframe thead th {\n",
       "        text-align: right;\n",
       "    }\n",
       "</style>\n",
       "<table border=\"1\" class=\"dataframe\">\n",
       "  <thead>\n",
       "    <tr style=\"text-align: right;\">\n",
       "      <th></th>\n",
       "      <th>text</th>\n",
       "      <th>tags</th>\n",
       "    </tr>\n",
       "  </thead>\n",
       "  <tbody>\n",
       "    <tr>\n",
       "      <th>0</th>\n",
       "      <td>москва занять 17-й место в мир по стоимость ар...</td>\n",
       "      <td>49</td>\n",
       "    </tr>\n",
       "    <tr>\n",
       "      <th>1</th>\n",
       "      <td>корреспондент немецкий газета die welt дениз ю...</td>\n",
       "      <td>53</td>\n",
       "    </tr>\n",
       "    <tr>\n",
       "      <th>2</th>\n",
       "      <td>фгуп « российский телевизионный и радиовещател...</td>\n",
       "      <td>49</td>\n",
       "    </tr>\n",
       "    <tr>\n",
       "      <th>3</th>\n",
       "      <td>японский ресторан chojiya существующий более 4...</td>\n",
       "      <td>49</td>\n",
       "    </tr>\n",
       "    <tr>\n",
       "      <th>4</th>\n",
       "      <td>французский актриса русский происхождение мари...</td>\n",
       "      <td>53</td>\n",
       "    </tr>\n",
       "    <tr>\n",
       "      <th>...</th>\n",
       "      <td>...</td>\n",
       "      <td>...</td>\n",
       "    </tr>\n",
       "    <tr>\n",
       "      <th>66</th>\n",
       "      <td>в московский регион приостановить возведение п...</td>\n",
       "      <td>49</td>\n",
       "    </tr>\n",
       "    <tr>\n",
       "      <th>67</th>\n",
       "      <td>роскомнадзор вынести предупреждение четыре инт...</td>\n",
       "      <td>53</td>\n",
       "    </tr>\n",
       "    <tr>\n",
       "      <th>68</th>\n",
       "      <td>спецкор « комсомольский правда » дарья асламов...</td>\n",
       "      <td>53</td>\n",
       "    </tr>\n",
       "    <tr>\n",
       "      <th>69</th>\n",
       "      <td>министерство культура рф сообщить о успешный э...</td>\n",
       "      <td>49</td>\n",
       "    </tr>\n",
       "    <tr>\n",
       "      <th>70</th>\n",
       "      <td>администрация президент сирия башар асад уличи...</td>\n",
       "      <td>53</td>\n",
       "    </tr>\n",
       "  </tbody>\n",
       "</table>\n",
       "<p>71 rows × 2 columns</p>\n",
       "</div>"
      ],
      "text/plain": [
       "                                                 text  tags\n",
       "0   москва занять 17-й место в мир по стоимость ар...    49\n",
       "1   корреспондент немецкий газета die welt дениз ю...    53\n",
       "2   фгуп « российский телевизионный и радиовещател...    49\n",
       "3   японский ресторан chojiya существующий более 4...    49\n",
       "4   французский актриса русский происхождение мари...    53\n",
       "..                                                ...   ...\n",
       "66  в московский регион приостановить возведение п...    49\n",
       "67  роскомнадзор вынести предупреждение четыре инт...    53\n",
       "68  спецкор « комсомольский правда » дарья асламов...    53\n",
       "69  министерство культура рф сообщить о успешный э...    49\n",
       "70  администрация президент сирия башар асад уличи...    53\n",
       "\n",
       "[71 rows x 2 columns]"
      ]
     },
     "execution_count": 16,
     "metadata": {},
     "output_type": "execute_result"
    }
   ],
   "source": [
    "%%time\n",
    "\n",
    "data['text'] = data['text'].apply(lemmatize)\n",
    "data"
   ]
  },
  {
   "cell_type": "code",
   "execution_count": 17,
   "metadata": {
    "colab": {
     "base_uri": "https://localhost:8080/",
     "height": 355
    },
    "id": "aBqk4e7up--s",
    "outputId": "9b20079d-8134-4e25-bc71-008a74be7b3a"
   },
   "outputs": [
    {
     "data": {
      "text/html": [
       "<div>\n",
       "<style scoped>\n",
       "    .dataframe tbody tr th:only-of-type {\n",
       "        vertical-align: middle;\n",
       "    }\n",
       "\n",
       "    .dataframe tbody tr th {\n",
       "        vertical-align: top;\n",
       "    }\n",
       "\n",
       "    .dataframe thead th {\n",
       "        text-align: right;\n",
       "    }\n",
       "</style>\n",
       "<table border=\"1\" class=\"dataframe\">\n",
       "  <thead>\n",
       "    <tr style=\"text-align: right;\">\n",
       "      <th></th>\n",
       "      <th>text</th>\n",
       "      <th>tags</th>\n",
       "    </tr>\n",
       "  </thead>\n",
       "  <tbody>\n",
       "    <tr>\n",
       "      <th>0</th>\n",
       "      <td>москва занять 17-й место в мир по стоимость ар...</td>\n",
       "      <td>49</td>\n",
       "    </tr>\n",
       "    <tr>\n",
       "      <th>1</th>\n",
       "      <td>корреспондент немецкий газета die welt дениз ю...</td>\n",
       "      <td>53</td>\n",
       "    </tr>\n",
       "    <tr>\n",
       "      <th>2</th>\n",
       "      <td>фгуп « российский телевизионный и радиовещател...</td>\n",
       "      <td>49</td>\n",
       "    </tr>\n",
       "    <tr>\n",
       "      <th>3</th>\n",
       "      <td>японский ресторан chojiya существующий более 4...</td>\n",
       "      <td>49</td>\n",
       "    </tr>\n",
       "    <tr>\n",
       "      <th>4</th>\n",
       "      <td>французский актриса русский происхождение мари...</td>\n",
       "      <td>53</td>\n",
       "    </tr>\n",
       "    <tr>\n",
       "      <th>5</th>\n",
       "      <td>журналист издание vice отправить в космос кося...</td>\n",
       "      <td>53</td>\n",
       "    </tr>\n",
       "    <tr>\n",
       "      <th>6</th>\n",
       "      <td>в торонто с верхушка 65-этажный здание отель t...</td>\n",
       "      <td>49</td>\n",
       "    </tr>\n",
       "    <tr>\n",
       "      <th>7</th>\n",
       "      <td>губернатор тверской область игорь руденить при...</td>\n",
       "      <td>49</td>\n",
       "    </tr>\n",
       "    <tr>\n",
       "      <th>8</th>\n",
       "      <td>значение ставка капитализация на офисный объек...</td>\n",
       "      <td>49</td>\n",
       "    </tr>\n",
       "    <tr>\n",
       "      <th>9</th>\n",
       "      <td>власть москва отозвать с аукцион уникальный па...</td>\n",
       "      <td>49</td>\n",
       "    </tr>\n",
       "  </tbody>\n",
       "</table>\n",
       "</div>"
      ],
      "text/plain": [
       "                                                text  tags\n",
       "0  москва занять 17-й место в мир по стоимость ар...    49\n",
       "1  корреспондент немецкий газета die welt дениз ю...    53\n",
       "2  фгуп « российский телевизионный и радиовещател...    49\n",
       "3  японский ресторан chojiya существующий более 4...    49\n",
       "4  французский актриса русский происхождение мари...    53\n",
       "5  журналист издание vice отправить в космос кося...    53\n",
       "6  в торонто с верхушка 65-этажный здание отель t...    49\n",
       "7  губернатор тверской область игорь руденить при...    49\n",
       "8  значение ставка капитализация на офисный объек...    49\n",
       "9  власть москва отозвать с аукцион уникальный па...    49"
      ]
     },
     "execution_count": 17,
     "metadata": {},
     "output_type": "execute_result"
    }
   ],
   "source": [
    "data.head(10)"
   ]
  },
  {
   "cell_type": "code",
   "execution_count": 18,
   "metadata": {
    "colab": {
     "base_uri": "https://localhost:8080/",
     "height": 243
    },
    "id": "NOhqE1v_S3yk",
    "outputId": "cde6c657-0e74-484d-a750-8c5023556c96"
   },
   "outputs": [
    {
     "data": {
      "text/plain": [
       "'в москва пройти торг по продажа нежилой помещение площадь 4,7 квадратный метр это самый маленький объект предложить потенциальный покупатель в 2018 год говориться в сообщение столичный департамент по конкурентный политика поступить в « дом » в пятница 27 апрель помещение расположить на первый этаж нежилой шестиэтажный здание построить в 2007 год в северо-западный административный округ по адрес новокуркинский шоссе дом 39 здание оборудовать централизовать водопровод и канализация горячий водоснабжение электричество и скрытый проводка как отмечаться в сообщение выставить на продажа объект находиться в район с хороший инфраструктура — рядом функционировать десять салон красота и точка бытовой обслуживание восемь магазин и кафе пять учебный заведение и культурно-спортивный центр а также четыре объект здравоохранение начальный стоимость лот — 148 тысяча рубль приём заявка на участие в аукцион проводиться до 15 май 2018 год торг состояться 23 май ранее департамент по конкурентный политика успешно реализовывать лот малый размер — трех- и четырёхметровый превышение стартовый цена на торг по информация ведомство достигать 100-175 процент в февраль 2018-го в лондон на продажа выставить дом ширина весь два с небольшой метр он начальный стоимость составить один миллион фунт стерлинг 87 миллион рубль'"
      ]
     },
     "execution_count": 18,
     "metadata": {},
     "output_type": "execute_result"
    }
   ],
   "source": [
    "data['text'][12]"
   ]
  },
  {
   "cell_type": "code",
   "execution_count": 19,
   "metadata": {
    "id": "CmKcFNk4MuzJ"
   },
   "outputs": [],
   "source": [
    "data = data[data['text'].map(len) > 50]"
   ]
  },
  {
   "cell_type": "code",
   "execution_count": 20,
   "metadata": {
    "colab": {
     "base_uri": "https://localhost:8080/",
     "height": 415
    },
    "id": "O5YnhSNkOSqe",
    "outputId": "82ebbb83-1f00-48f6-a153-d86c7ffb3e55"
   },
   "outputs": [
    {
     "data": {
      "text/html": [
       "<div>\n",
       "<style scoped>\n",
       "    .dataframe tbody tr th:only-of-type {\n",
       "        vertical-align: middle;\n",
       "    }\n",
       "\n",
       "    .dataframe tbody tr th {\n",
       "        vertical-align: top;\n",
       "    }\n",
       "\n",
       "    .dataframe thead th {\n",
       "        text-align: right;\n",
       "    }\n",
       "</style>\n",
       "<table border=\"1\" class=\"dataframe\">\n",
       "  <thead>\n",
       "    <tr style=\"text-align: right;\">\n",
       "      <th></th>\n",
       "      <th>text</th>\n",
       "      <th>tags</th>\n",
       "    </tr>\n",
       "  </thead>\n",
       "  <tbody>\n",
       "    <tr>\n",
       "      <th>0</th>\n",
       "      <td>москва занять 17-й место в мир по стоимость ар...</td>\n",
       "      <td>49</td>\n",
       "    </tr>\n",
       "    <tr>\n",
       "      <th>1</th>\n",
       "      <td>корреспондент немецкий газета die welt дениз ю...</td>\n",
       "      <td>53</td>\n",
       "    </tr>\n",
       "    <tr>\n",
       "      <th>2</th>\n",
       "      <td>фгуп « российский телевизионный и радиовещател...</td>\n",
       "      <td>49</td>\n",
       "    </tr>\n",
       "    <tr>\n",
       "      <th>3</th>\n",
       "      <td>японский ресторан chojiya существующий более 4...</td>\n",
       "      <td>49</td>\n",
       "    </tr>\n",
       "    <tr>\n",
       "      <th>4</th>\n",
       "      <td>французский актриса русский происхождение мари...</td>\n",
       "      <td>53</td>\n",
       "    </tr>\n",
       "    <tr>\n",
       "      <th>...</th>\n",
       "      <td>...</td>\n",
       "      <td>...</td>\n",
       "    </tr>\n",
       "    <tr>\n",
       "      <th>66</th>\n",
       "      <td>в московский регион приостановить возведение п...</td>\n",
       "      <td>49</td>\n",
       "    </tr>\n",
       "    <tr>\n",
       "      <th>67</th>\n",
       "      <td>роскомнадзор вынести предупреждение четыре инт...</td>\n",
       "      <td>53</td>\n",
       "    </tr>\n",
       "    <tr>\n",
       "      <th>68</th>\n",
       "      <td>спецкор « комсомольский правда » дарья асламов...</td>\n",
       "      <td>53</td>\n",
       "    </tr>\n",
       "    <tr>\n",
       "      <th>69</th>\n",
       "      <td>министерство культура рф сообщить о успешный э...</td>\n",
       "      <td>49</td>\n",
       "    </tr>\n",
       "    <tr>\n",
       "      <th>70</th>\n",
       "      <td>администрация президент сирия башар асад уличи...</td>\n",
       "      <td>53</td>\n",
       "    </tr>\n",
       "  </tbody>\n",
       "</table>\n",
       "<p>71 rows × 2 columns</p>\n",
       "</div>"
      ],
      "text/plain": [
       "                                                 text  tags\n",
       "0   москва занять 17-й место в мир по стоимость ар...    49\n",
       "1   корреспондент немецкий газета die welt дениз ю...    53\n",
       "2   фгуп « российский телевизионный и радиовещател...    49\n",
       "3   японский ресторан chojiya существующий более 4...    49\n",
       "4   французский актриса русский происхождение мари...    53\n",
       "..                                                ...   ...\n",
       "66  в московский регион приостановить возведение п...    49\n",
       "67  роскомнадзор вынести предупреждение четыре инт...    53\n",
       "68  спецкор « комсомольский правда » дарья асламов...    53\n",
       "69  министерство культура рф сообщить о успешный э...    49\n",
       "70  администрация президент сирия башар асад уличи...    53\n",
       "\n",
       "[71 rows x 2 columns]"
      ]
     },
     "execution_count": 20,
     "metadata": {},
     "output_type": "execute_result"
    }
   ],
   "source": [
    "data = data.reset_index(drop=True)\n",
    "data"
   ]
  },
  {
   "cell_type": "code",
   "execution_count": 21,
   "metadata": {
    "id": "kcXQX37pOVWu"
   },
   "outputs": [],
   "source": [
    "from sklearn.model_selection import train_test_split\n",
    "\n",
    "X_train, X_test, y_train, y_test = train_test_split(data['text'], data['tags'], test_size=0.12, stratify=data['tags'], random_state=42)"
   ]
  },
  {
   "cell_type": "code",
   "execution_count": null,
   "metadata": {
    "id": "ZE9RZlxUOkMQ"
   },
   "outputs": [],
   "source": []
  },
  {
   "cell_type": "markdown",
   "metadata": {
    "id": "kJHD08paOl17"
   },
   "source": [
    "Bag Of Words\n"
   ]
  },
  {
   "cell_type": "code",
   "execution_count": 22,
   "metadata": {
    "colab": {
     "base_uri": "https://localhost:8080/"
    },
    "id": "WFtIMJDeOo91",
    "outputId": "4331bda8-66d4-401e-cc6a-42217bb5be52"
   },
   "outputs": [
    {
     "data": {
      "text/plain": [
       "(62,)"
      ]
     },
     "execution_count": 22,
     "metadata": {},
     "output_type": "execute_result"
    }
   ],
   "source": [
    "X_train.shape"
   ]
  },
  {
   "cell_type": "code",
   "execution_count": 23,
   "metadata": {
    "id": "eHlBsZoTOq9-"
   },
   "outputs": [],
   "source": [
    "for i in X_train:\n",
    "  if len(i) < 50:\n",
    "    print (i)"
   ]
  },
  {
   "cell_type": "code",
   "execution_count": 24,
   "metadata": {
    "id": "Q3lRm7Q-Ot7e"
   },
   "outputs": [],
   "source": [
    "from sklearn.feature_extraction.text import CountVectorizer\n",
    "bof_vect = CountVectorizer()\n",
    "bof_vect.fit(np.hstack([X_train, X_test]))\n",
    "bof_train = bof_vect.transform(X_train)\n",
    "bof_test = bof_vect.transform(X_test)"
   ]
  },
  {
   "cell_type": "code",
   "execution_count": 25,
   "metadata": {
    "colab": {
     "base_uri": "https://localhost:8080/"
    },
    "id": "BxFoPklqOx7E",
    "outputId": "cc44a0ef-b024-42f3-d59e-cee0b4cb90d4"
   },
   "outputs": [
    {
     "data": {
      "text/plain": [
       "(62, 3711)"
      ]
     },
     "execution_count": 25,
     "metadata": {},
     "output_type": "execute_result"
    }
   ],
   "source": [
    "bof_train.toarray().shape"
   ]
  },
  {
   "cell_type": "code",
   "execution_count": 26,
   "metadata": {
    "colab": {
     "base_uri": "https://localhost:8080/"
    },
    "id": "cg84QQUnO0SM",
    "outputId": "56daf781-432d-45b6-e48c-34cfed91c17a"
   },
   "outputs": [
    {
     "data": {
      "text/plain": [
       "array([[0, 0, 0, ..., 0, 0, 0],\n",
       "       [0, 0, 0, ..., 0, 0, 0],\n",
       "       [0, 0, 0, ..., 0, 0, 0],\n",
       "       ...,\n",
       "       [0, 0, 2, ..., 0, 0, 0],\n",
       "       [0, 0, 0, ..., 0, 0, 0],\n",
       "       [0, 0, 0, ..., 0, 0, 0]], dtype=int64)"
      ]
     },
     "execution_count": 26,
     "metadata": {},
     "output_type": "execute_result"
    }
   ],
   "source": [
    "bof_train.toarray(\n",
    ")"
   ]
  },
  {
   "cell_type": "code",
   "execution_count": null,
   "metadata": {
    "id": "b8ccYnZ3O3MA"
   },
   "outputs": [],
   "source": []
  },
  {
   "cell_type": "markdown",
   "metadata": {
    "id": "TURxPKUeO4bZ"
   },
   "source": [
    "TF-IDF"
   ]
  },
  {
   "cell_type": "code",
   "execution_count": 27,
   "metadata": {
    "id": "EL6J_-KYO6t5"
   },
   "outputs": [],
   "source": [
    "from sklearn.feature_extraction.text import TfidfVectorizer\n",
    "tfidf_vect = TfidfVectorizer()\n",
    "tfidf_vect.fit(np.hstack([X_train, X_test]))\n",
    "tfidf_train = tfidf_vect.transform(X_train)\n",
    "tfidf_test = tfidf_vect.transform(X_test)"
   ]
  },
  {
   "cell_type": "code",
   "execution_count": 28,
   "metadata": {
    "colab": {
     "base_uri": "https://localhost:8080/"
    },
    "id": "yB5x9lHtO8zE",
    "outputId": "1c997cb9-9526-491d-9d36-5e43e6e6f150"
   },
   "outputs": [
    {
     "data": {
      "text/plain": [
       "array([[0.        , 0.        , 0.        , ..., 0.        , 0.        ,\n",
       "        0.        ],\n",
       "       [0.        , 0.        , 0.        , ..., 0.        , 0.        ,\n",
       "        0.        ],\n",
       "       [0.        , 0.        , 0.        , ..., 0.        , 0.        ,\n",
       "        0.        ],\n",
       "       ...,\n",
       "       [0.        , 0.        , 0.06443812, ..., 0.        , 0.        ,\n",
       "        0.        ],\n",
       "       [0.        , 0.        , 0.        , ..., 0.        , 0.        ,\n",
       "        0.        ],\n",
       "       [0.        , 0.        , 0.        , ..., 0.        , 0.        ,\n",
       "        0.        ]])"
      ]
     },
     "execution_count": 28,
     "metadata": {},
     "output_type": "execute_result"
    }
   ],
   "source": [
    "tfidf_train.toarray()"
   ]
  },
  {
   "cell_type": "code",
   "execution_count": 29,
   "metadata": {
    "colab": {
     "base_uri": "https://localhost:8080/"
    },
    "id": "5zd5WTKvO_Hb",
    "outputId": "dffa4955-6ed6-441f-810e-7ce9db7776e8"
   },
   "outputs": [
    {
     "data": {
      "text/plain": [
       "(62, 3711)"
      ]
     },
     "execution_count": 29,
     "metadata": {},
     "output_type": "execute_result"
    }
   ],
   "source": [
    "tfidf_train.toarray().shape"
   ]
  },
  {
   "cell_type": "code",
   "execution_count": null,
   "metadata": {
    "id": "J0wcRtILPCVg"
   },
   "outputs": [],
   "source": []
  },
  {
   "cell_type": "markdown",
   "metadata": {
    "id": "OxMoOphQPEg9"
   },
   "source": [
    "Word2Vec"
   ]
  },
  {
   "cell_type": "code",
   "execution_count": 30,
   "metadata": {
    "colab": {
     "base_uri": "https://localhost:8080/"
    },
    "id": "sVutCctvPF8d",
    "outputId": "3ab414e3-bedb-4ea9-f13c-3a07f5bbb2ab"
   },
   "outputs": [
    {
     "name": "stdout",
     "output_type": "stream",
     "text": [
      "Wall time: 686 ms\n"
     ]
    }
   ],
   "source": [
    "%%time\n",
    "\n",
    "from gensim.models import Word2Vec\n",
    "X_train_w2v = X_train.apply(str.split)\n",
    "X_test_w2v = X_test.apply(str.split)\n",
    "w2v_vect = Word2Vec(np.hstack([X_train_w2v, X_test_w2v]), size=30, min_count=10, workers=8)"
   ]
  },
  {
   "cell_type": "code",
   "execution_count": 31,
   "metadata": {
    "colab": {
     "base_uri": "https://localhost:8080/"
    },
    "id": "rJBtGfh5PLf5",
    "outputId": "09ec14eb-5894-44f7-9594-399aa8e8a9f1"
   },
   "outputs": [
    {
     "data": {
      "text/plain": [
       "46    [свердловский, прокуратура, начало, доследстве...\n",
       "66    [в, московский, регион, приостановить, возведе...\n",
       "22    [смоленский, журналистка, сайт, readovka.ru, п...\n",
       "64    [кандидат, в, нижний, палата, конгресс, респуб...\n",
       "57    [мвд, украина, пообещать, отпустить, задержать...\n",
       "                            ...                        \n",
       "6     [в, торонто, с, верхушка, 65-этажный, здание, ...\n",
       "53    [сборная, сша, с, 23, медаль, не, оправдать, н...\n",
       "8     [значение, ставка, капитализация, на, офисный,...\n",
       "38    [американский, журнал, rolling, stone, выпусти...\n",
       "61    [американский, газета, washington, post, и, ne...\n",
       "Name: text, Length: 62, dtype: object"
      ]
     },
     "execution_count": 31,
     "metadata": {},
     "output_type": "execute_result"
    }
   ],
   "source": [
    "X_train_w2v"
   ]
  },
  {
   "cell_type": "code",
   "execution_count": null,
   "metadata": {
    "id": "swxdjTHRPPLQ"
   },
   "outputs": [],
   "source": []
  },
  {
   "cell_type": "markdown",
   "metadata": {
    "id": "j33piniWPRqC"
   },
   "source": [
    "Преобразуем тексты в вектора - возьмем сумму векторов всех слов в тексте"
   ]
  },
  {
   "cell_type": "code",
   "execution_count": 32,
   "metadata": {
    "colab": {
     "base_uri": "https://localhost:8080/"
    },
    "id": "5sCu9Z3wPSrS",
    "outputId": "0877c78d-48eb-42b7-ec63-d51dff913d06"
   },
   "outputs": [
    {
     "name": "stdout",
     "output_type": "stream",
     "text": [
      "Wall time: 112 ms\n"
     ]
    },
    {
     "name": "stderr",
     "output_type": "stream",
     "text": [
      "<timed exec>:8: DeprecationWarning: Call to deprecated `__getitem__` (Method will be removed in 4.0.0, use self.wv.__getitem__() instead).\n"
     ]
    },
    {
     "data": {
      "text/plain": [
       "46    [-0.2281454, 0.23144932, 0.2536811, 0.12859178...\n",
       "66    [-0.20959441, 0.21670671, 0.23522021, 0.120184...\n",
       "22    [-0.20311232, 0.20839025, 0.22753915, 0.115746...\n",
       "64    [-0.21761917, 0.22359414, 0.24602912, 0.126383...\n",
       "57    [-0.20576707, 0.21167573, 0.23306552, 0.119871...\n",
       "                            ...                        \n",
       "6     [-0.2060346, 0.21375301, 0.23220837, 0.1196404...\n",
       "53    [-0.20957626, 0.21863627, 0.23820375, 0.120427...\n",
       "8     [-0.20253298, 0.20585422, 0.22750026, 0.114134...\n",
       "38    [-0.20185126, 0.20556667, 0.22920927, 0.114833...\n",
       "61    [-0.20600381, 0.21049063, 0.23004277, 0.116169...\n",
       "Name: text, Length: 62, dtype: object"
      ]
     },
     "execution_count": 32,
     "metadata": {},
     "output_type": "execute_result"
    }
   ],
   "source": [
    "%%time\n",
    "\n",
    "import numpy as np\n",
    "\n",
    "def text2vec(text):\n",
    "    \"\"\"Усредняем векторы слов\"\"\"\n",
    "    vecs = []\n",
    "    for word in text:\n",
    "        try:\n",
    "            vecs.append(w2v_vect[word])\n",
    "        except KeyError:\n",
    "            pass\n",
    "    return np.sum(vecs, axis=0) / len(vecs)\n",
    "\n",
    "w2v_train = X_train_w2v.apply(text2vec)\n",
    "w2v_test = X_test_w2v.apply(text2vec)\n",
    "w2v_train"
   ]
  },
  {
   "cell_type": "code",
   "execution_count": 33,
   "metadata": {
    "colab": {
     "base_uri": "https://localhost:8080/"
    },
    "id": "s43SEnBlPWa9",
    "outputId": "2d6e3761-f855-491e-f9e4-13fc13ecce78"
   },
   "outputs": [
    {
     "data": {
      "text/plain": [
       "46    [-0.2281454, 0.23144932, 0.2536811, 0.12859178...\n",
       "66    [-0.20959441, 0.21670671, 0.23522021, 0.120184...\n",
       "22    [-0.20311232, 0.20839025, 0.22753915, 0.115746...\n",
       "64    [-0.21761917, 0.22359414, 0.24602912, 0.126383...\n",
       "57    [-0.20576707, 0.21167573, 0.23306552, 0.119871...\n",
       "                            ...                        \n",
       "6     [-0.2060346, 0.21375301, 0.23220837, 0.1196404...\n",
       "53    [-0.20957626, 0.21863627, 0.23820375, 0.120427...\n",
       "8     [-0.20253298, 0.20585422, 0.22750026, 0.114134...\n",
       "38    [-0.20185126, 0.20556667, 0.22920927, 0.114833...\n",
       "61    [-0.20600381, 0.21049063, 0.23004277, 0.116169...\n",
       "Name: text, Length: 62, dtype: object"
      ]
     },
     "execution_count": 33,
     "metadata": {},
     "output_type": "execute_result"
    }
   ],
   "source": [
    "w2v_train"
   ]
  },
  {
   "cell_type": "code",
   "execution_count": null,
   "metadata": {
    "id": "W4aQ3aMqPY_R"
   },
   "outputs": [],
   "source": []
  },
  {
   "cell_type": "markdown",
   "metadata": {
    "id": "e9Wq1E4uPb4M"
   },
   "source": [
    "Классификация"
   ]
  },
  {
   "cell_type": "code",
   "execution_count": 34,
   "metadata": {
    "id": "FYp6G1yxPc6c"
   },
   "outputs": [],
   "source": [
    "from sklearn.metrics import (accuracy_score, precision_score, recall_score, precision_recall_curve, roc_auc_score, \n",
    "    f1_score, fbeta_score, auc)\n",
    "\n",
    "def classsifier_quality(a):\n",
    "    print('Accuracy:', accuracy_score( y_train.tolist(), a))\n",
    "    print('Precision:', precision_score( y_train.tolist(), a, average='macro'))\n",
    "    print('Recall:', recall_score( y_train.tolist(), a, average='macro'))\n",
    "    print('F1:', f1_score( y_train.tolist(), a, average='macro'))\n",
    "    print('F0.5:', fbeta_score( y_train.tolist(), a, 0.5 ,average='macro'))\n",
    "    print('F2:', fbeta_score( y_train.tolist(), a, 2, average='macro'))"
   ]
  },
  {
   "cell_type": "code",
   "execution_count": 35,
   "metadata": {
    "colab": {
     "base_uri": "https://localhost:8080/"
    },
    "id": "SzBKDOp0PfgZ",
    "outputId": "1cf5904b-6776-4b08-e292-19a8530ae38b"
   },
   "outputs": [
    {
     "name": "stdout",
     "output_type": "stream",
     "text": [
      "Wall time: 194 ms\n"
     ]
    }
   ],
   "source": [
    "%%time \n",
    "\n",
    "from sklearn.neighbors import KNeighborsClassifier\n",
    "bknn_clf = KNeighborsClassifier()\n",
    "bknn_clf.fit(bof_train.toarray(), y_train.tolist())\n",
    "bknn_labels = bknn_clf.predict(bof_train.toarray())\n",
    "bknn_predict = bknn_clf.predict_proba(bof_train.toarray())"
   ]
  },
  {
   "cell_type": "code",
   "execution_count": 36,
   "metadata": {
    "colab": {
     "base_uri": "https://localhost:8080/"
    },
    "id": "rcgaXzqOPiZ5",
    "outputId": "cf5b71c8-73c0-4901-9f0e-a801740060e0"
   },
   "outputs": [
    {
     "name": "stdout",
     "output_type": "stream",
     "text": [
      "Accuracy: 0.9516129032258065\n",
      "Precision: 0.9437012263099219\n",
      "Recall: 0.9522727272727273\n",
      "F1: 0.9476793248945148\n",
      "F0.5: 0.945220193340494\n",
      "F2: 0.9503599076463398\n"
     ]
    },
    {
     "name": "stderr",
     "output_type": "stream",
     "text": [
      "C:\\Users\\User\\anaconda3\\lib\\site-packages\\sklearn\\utils\\validation.py:67: FutureWarning: Pass beta=0.5 as keyword args. From version 0.25 passing these as positional arguments will result in an error\n",
      "  warnings.warn(\"Pass {} as keyword args. From version 0.25 \"\n",
      "C:\\Users\\User\\anaconda3\\lib\\site-packages\\sklearn\\utils\\validation.py:67: FutureWarning: Pass beta=2 as keyword args. From version 0.25 passing these as positional arguments will result in an error\n",
      "  warnings.warn(\"Pass {} as keyword args. From version 0.25 \"\n"
     ]
    }
   ],
   "source": [
    "classsifier_quality(bknn_labels)"
   ]
  },
  {
   "cell_type": "code",
   "execution_count": 37,
   "metadata": {
    "colab": {
     "base_uri": "https://localhost:8080/"
    },
    "id": "4tmksSGaQI0j",
    "outputId": "0b856951-eb7e-4269-faf3-a0e9e8330d46"
   },
   "outputs": [
    {
     "name": "stdout",
     "output_type": "stream",
     "text": [
      "Wall time: 93.9 ms\n"
     ]
    }
   ],
   "source": [
    "%%time \n",
    "\n",
    "from sklearn.neighbors import KNeighborsClassifier\n",
    "tknn_clf = KNeighborsClassifier()\n",
    "tknn_clf.fit(tfidf_train.toarray(), y_train.tolist())\n",
    "tknn_labels = tknn_clf.predict(tfidf_train.toarray())\n",
    "tknn_predict = tknn_clf.predict_proba(tfidf_train.toarray())"
   ]
  },
  {
   "cell_type": "code",
   "execution_count": 38,
   "metadata": {
    "colab": {
     "base_uri": "https://localhost:8080/"
    },
    "id": "95nvjwRRQNTW",
    "outputId": "ea728b6c-4cd8-4ea8-a8f5-48fc398d8769"
   },
   "outputs": [
    {
     "name": "stdout",
     "output_type": "stream",
     "text": [
      "Accuracy: 0.9516129032258065\n",
      "Precision: 0.94\n",
      "Recall: 0.9625\n",
      "F1: 0.9486045869024593\n",
      "F0.5: 0.9428409487268923\n",
      "F2: 0.9562688109249361\n"
     ]
    },
    {
     "name": "stderr",
     "output_type": "stream",
     "text": [
      "C:\\Users\\User\\anaconda3\\lib\\site-packages\\sklearn\\utils\\validation.py:67: FutureWarning: Pass beta=0.5 as keyword args. From version 0.25 passing these as positional arguments will result in an error\n",
      "  warnings.warn(\"Pass {} as keyword args. From version 0.25 \"\n",
      "C:\\Users\\User\\anaconda3\\lib\\site-packages\\sklearn\\utils\\validation.py:67: FutureWarning: Pass beta=2 as keyword args. From version 0.25 passing these as positional arguments will result in an error\n",
      "  warnings.warn(\"Pass {} as keyword args. From version 0.25 \"\n"
     ]
    }
   ],
   "source": [
    "classsifier_quality(tknn_labels)"
   ]
  },
  {
   "cell_type": "code",
   "execution_count": 39,
   "metadata": {
    "colab": {
     "base_uri": "https://localhost:8080/"
    },
    "id": "adwGJunEQ18U",
    "outputId": "83681cf0-2929-445e-ccda-ac40832adcac"
   },
   "outputs": [
    {
     "name": "stdout",
     "output_type": "stream",
     "text": [
      "Wall time: 51 ms\n"
     ]
    }
   ],
   "source": [
    "%%time\n",
    "\n",
    "from sklearn.naive_bayes import GaussianNB\n",
    "tbayes = GaussianNB()\n",
    "tbayes.fit(tfidf_train.toarray(), y_train.tolist())\n",
    "tbayes_labels = tbayes.predict(tfidf_train.toarray())\n",
    "tbayes_predict = tbayes.predict_proba(tfidf_train.toarray())"
   ]
  },
  {
   "cell_type": "code",
   "execution_count": 40,
   "metadata": {
    "colab": {
     "base_uri": "https://localhost:8080/"
    },
    "id": "Nl2jgvRAQ55L",
    "outputId": "0929935a-a51c-44c4-8eb7-227ce87f232c"
   },
   "outputs": [
    {
     "name": "stdout",
     "output_type": "stream",
     "text": [
      "Accuracy: 1.0\n",
      "Precision: 1.0\n",
      "Recall: 1.0\n",
      "F1: 1.0\n",
      "F0.5: 1.0\n",
      "F2: 1.0\n"
     ]
    },
    {
     "name": "stderr",
     "output_type": "stream",
     "text": [
      "C:\\Users\\User\\anaconda3\\lib\\site-packages\\sklearn\\utils\\validation.py:67: FutureWarning: Pass beta=0.5 as keyword args. From version 0.25 passing these as positional arguments will result in an error\n",
      "  warnings.warn(\"Pass {} as keyword args. From version 0.25 \"\n",
      "C:\\Users\\User\\anaconda3\\lib\\site-packages\\sklearn\\utils\\validation.py:67: FutureWarning: Pass beta=2 as keyword args. From version 0.25 passing these as positional arguments will result in an error\n",
      "  warnings.warn(\"Pass {} as keyword args. From version 0.25 \"\n"
     ]
    }
   ],
   "source": [
    "classsifier_quality(tbayes_labels)"
   ]
  },
  {
   "cell_type": "code",
   "execution_count": null,
   "metadata": {
    "id": "e-VAUQeSQ9w8"
   },
   "outputs": [],
   "source": []
  },
  {
   "cell_type": "code",
   "execution_count": null,
   "metadata": {},
   "outputs": [],
   "source": []
  }
 ],
 "metadata": {
  "colab": {
   "collapsed_sections": [],
   "name": "Копия_блокнота__Untitled6_ipynb_.ipynb",
   "provenance": []
  },
  "kernelspec": {
   "display_name": "Python 3",
   "language": "python",
   "name": "python3"
  },
  "language_info": {
   "codemirror_mode": {
    "name": "ipython",
    "version": 3
   },
   "file_extension": ".py",
   "mimetype": "text/x-python",
   "name": "python",
   "nbconvert_exporter": "python",
   "pygments_lexer": "ipython3",
   "version": "3.8.5"
  }
 },
 "nbformat": 4,
 "nbformat_minor": 1
}
